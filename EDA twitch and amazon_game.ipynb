{
 "cells": [
  {
   "cell_type": "code",
   "execution_count": 1,
   "metadata": {},
   "outputs": [
    {
     "data": {
      "text/html": [
       "\n",
       "        <div>\n",
       "            <p><b>SparkContext</b></p>\n",
       "\n",
       "            <p><a href=\"http://ip-172-31-14-202.ec2.internal:4040\">Spark UI</a></p>\n",
       "\n",
       "            <dl>\n",
       "              <dt>Version</dt>\n",
       "                <dd><code>v2.4.4</code></dd>\n",
       "              <dt>Master</dt>\n",
       "                <dd><code>yarn</code></dd>\n",
       "              <dt>AppName</dt>\n",
       "                <dd><code>SparkSession</code></dd>\n",
       "            </dl>\n",
       "        </div>\n",
       "        "
      ],
      "text/plain": [
       "<SparkContext master=yarn appName=SparkSession>"
      ]
     },
     "execution_count": 1,
     "metadata": {},
     "output_type": "execute_result"
    }
   ],
   "source": [
    "import findspark\n",
    "findspark.init()\n",
    "from pyspark import SparkContext\n",
    "from pyspark.sql import SparkSession\n",
    "spark = SparkSession.builder \\\n",
    "     .appName(\"SparkSession\") \\\n",
    "     .getOrCreate()\n",
    "\n",
    "sc = spark.sparkContext \n",
    "sc"
   ]
  },
  {
   "cell_type": "code",
   "execution_count": 2,
   "metadata": {},
   "outputs": [],
   "source": [
    "from pyspark.sql.types import StructType\n",
    "from pyspark.sql.types import StructField\n",
    "from pyspark.sql.types import StringType\n",
    "from pyspark.sql.types import DateType\n",
    "import pyspark.sql.functions as func"
   ]
  },
  {
   "cell_type": "code",
   "execution_count": 3,
   "metadata": {},
   "outputs": [],
   "source": [
    "schema = StructType([\n",
    "    StructField(\"stream_ID\", StringType(), True),\n",
    "    StructField(\"current_views\", StringType(), True),\n",
    "    StructField(\"stream_created_time\", DateType(), True),\n",
    "    StructField(\"game_name\", StringType(), True),\n",
    "    StructField(\"broadcaster_ID\", StringType(), True),\n",
    "    StructField(\"broadcaster_name\", StringType(), True),\n",
    "    StructField(\"delay_setting\", StringType(), True),\n",
    "    StructField(\"follower_number\", StringType(), True),\n",
    "    StructField(\"partner_status\", StringType(), True),\n",
    "    StructField(\"broadcaster_language\", StringType(), True),\n",
    "    StructField(\"total_views_of_this_broadcaster\", StringType(), True),\n",
    "    StructField(\"language\", StringType(), True),\n",
    "    StructField(\"broadcasters_created_time\", StringType(), True),\n",
    "    StructField(\"playback_bitrate\", StringType(), True),\n",
    "    StructField(\"source_resolution\", StringType(), True),\n",
    "])"
   ]
  },
  {
   "cell_type": "code",
   "execution_count": 4,
   "metadata": {},
   "outputs": [
    {
     "name": "stdout",
     "output_type": "stream",
     "text": [
      "+-----------+-------------+-------------------+--------------------+--------------+-------------------+-------------+---------------+--------------+--------------------+-------------------------------+--------+-------------------------+----------------+-----------------+\n",
      "|  stream_ID|current_views|stream_created_time|           game_name|broadcaster_ID|   broadcaster_name|delay_setting|follower_number|partner_status|broadcaster_language|total_views_of_this_broadcaster|language|broadcasters_created_time|playback_bitrate|source_resolution|\n",
      "+-----------+-------------+-------------------+--------------------+--------------+-------------------+-------------+---------------+--------------+--------------------+-------------------------------+--------+-------------------------+----------------+-----------------+\n",
      "|13143376000|       206403|         2015-02-14|   League of Legends|      36029255|          riotgames|           -1|        1375163|          True|                  en|                      636705939|      en|     2012-09-08T06:53:10Z|         2638140|         1280x720|\n",
      "|13137381936|        78525|         2015-02-14|Counter-Strike: G...|      31239503|           esltv_cs|           -1|         238950|          True|                  en|                       26775824|      pl|     2012-06-11T13:36:21Z|         2444460|         1280x720|\n",
      "|13144450944|        47007|         2015-02-14|           Minecraft|      15554591|    captainsparklez|           -1|         921635|          True|                  en|                       14392009|      en|     2010-09-12T23:55:54Z|         3018132|         1280x720|\n",
      "|13141516704|        31156|         2015-02-14|                H1Z1|      23161357|              lirik|           -1|         690274|          True|                  en|                       64984855|      en|     2011-06-27T18:34:45Z|         3247609|         1536x864|\n",
      "|13138856624|        21706|         2015-02-14|              Dota 2|      39176440|              dendi|           -1|         251151|          True|                  en|                       34604629|      ru|     2013-01-09T03:28:18Z|         2411437|        1920x1080|\n",
      "|13144304064|        16988|         2015-02-14|           Minecraft|      47176475|     omgitsfirefoxx|           -1|         404520|          True|                  en|                        3214041|      en|     2013-08-05T23:47:07Z|         3518289|         1280x720|\n",
      "|13141500112|        16015|         2015-02-14|Counter-Strike: G...|      80646824|          games4utv|           -1|            653|            -1|                  en|                          47195|      sv|     2015-01-23T17:47:38Z|         2670273|         1280x720|\n",
      "|13142879248|        15757|         2015-02-14|           Lucius II|      26301881|         sodapoppin|           -1|         657252|          True|                  en|                       81802355|      en|     2011-11-22T04:40:56Z|         2506179|        1920x1080|\n",
      "|13139732624|        13820|         2015-02-14|   League of Legends|      36511475|    riotgamesbrazil|           -1|         132915|          True|                  pt|                       33550390|      en|     2012-09-28T22:31:17Z|         2957742|         1280x720|\n",
      "|13136368448|        13605|         2015-02-14|Counter-Strike: G...|      75852992|stormstudio_csgo_ru|           -1|          18751|          True|                  ru|                        1839403|      ru|     2014-11-24T12:04:21Z|         3430843|         1280x720|\n",
      "+-----------+-------------+-------------------+--------------------+--------------+-------------------+-------------+---------------+--------------+--------------------+-------------------------------+--------+-------------------------+----------------+-----------------+\n",
      "only showing top 10 rows\n",
      "\n"
     ]
    }
   ],
   "source": [
    "twitch = spark.read.csv('s3://502-project/Twitch_data',sep = \"\\t\", schema=schema)\n",
    "twitch.show(10)"
   ]
  },
  {
   "cell_type": "code",
   "execution_count": 5,
   "metadata": {},
   "outputs": [],
   "source": [
    "#remove unnecessary columns\n",
    "twitch = twitch.drop(\"broadcasters_created_time\").drop(\"stream_ID\").drop(\"delay_setting\").drop(\"playback_bitrate\").drop(\"source_resolution\")\n",
    "twitch = twitch.drop(\"broadcaster_name\").drop(\"partner_status\")"
   ]
  },
  {
   "cell_type": "code",
   "execution_count": 6,
   "metadata": {},
   "outputs": [
    {
     "name": "stdout",
     "output_type": "stream",
     "text": [
      "root\n",
      " |-- current_views: string (nullable = true)\n",
      " |-- game_name: string (nullable = true)\n",
      " |-- broadcaster_ID: string (nullable = true)\n",
      " |-- follower_number: string (nullable = true)\n",
      " |-- broadcaster_language: string (nullable = true)\n",
      " |-- total_views_of_this_broadcaster: string (nullable = true)\n",
      " |-- language: string (nullable = true)\n",
      " |-- Date: date (nullable = true)\n",
      "\n",
      "+-------------+--------------------+--------------+---------------+--------------------+-------------------------------+--------+----------+\n",
      "|current_views|           game_name|broadcaster_ID|follower_number|broadcaster_language|total_views_of_this_broadcaster|language|      Date|\n",
      "+-------------+--------------------+--------------+---------------+--------------------+-------------------------------+--------+----------+\n",
      "|       206403|   League of Legends|      36029255|        1375163|                  en|                      636705939|      en|2015-02-14|\n",
      "|        78525|Counter-Strike: G...|      31239503|         238950|                  en|                       26775824|      pl|2015-02-14|\n",
      "|        47007|           Minecraft|      15554591|         921635|                  en|                       14392009|      en|2015-02-14|\n",
      "|        31156|                H1Z1|      23161357|         690274|                  en|                       64984855|      en|2015-02-14|\n",
      "|        21706|              Dota 2|      39176440|         251151|                  en|                       34604629|      ru|2015-02-14|\n",
      "|        16988|           Minecraft|      47176475|         404520|                  en|                        3214041|      en|2015-02-14|\n",
      "|        16015|Counter-Strike: G...|      80646824|            653|                  en|                          47195|      sv|2015-02-14|\n",
      "|        15757|           Lucius II|      26301881|         657252|                  en|                       81802355|      en|2015-02-14|\n",
      "|        13820|   League of Legends|      36511475|         132915|                  pt|                       33550390|      en|2015-02-14|\n",
      "|        13605|Counter-Strike: G...|      75852992|          18751|                  ru|                        1839403|      ru|2015-02-14|\n",
      "|        12308|Hearthstone: Hero...|      29107421|         137022|                  en|                        9498616|      ru|2015-02-14|\n",
      "|         9510|              Dota 2|      44079069|           3886|                  en|                        1390584|      en|2015-02-14|\n",
      "|         9279|              Dota 2|      21390470|         169794|                  ru|                       29832516|      en|2015-02-14|\n",
      "|         8274|Magic: The Gathering|      22480377|          54352|                  en|                       43546398|      en|2015-02-14|\n",
      "|         7584|                H1Z1|      22484632|         162846|                  en|                       12804781|      sv|2015-02-14|\n",
      "|         7459|               Smite|      31500812|         202886|                  en|                      115621469|      en|2015-02-14|\n",
      "|         6887|   Gaming Talk Shows|      47627824|         117656|                  de|                        7287642|      de|2015-02-11|\n",
      "|         6985|Pokémon Omega Rub...|      36653045|          61224|                  en|                        5028893|      en|2015-02-14|\n",
      "|         6336|World of Warcraft...|      30383713|         192600|                  en|                       65465177|      en|2015-02-14|\n",
      "|         6021|           Minecraft|      43693402|         147898|                  de|                        3376032|      de|2015-02-14|\n",
      "+-------------+--------------------+--------------+---------------+--------------------+-------------------------------+--------+----------+\n",
      "only showing top 20 rows\n",
      "\n"
     ]
    }
   ],
   "source": [
    "twitch.createOrReplaceTempView(\"twitch\")\n",
    "twitch = spark.sql(\"select current_views, game_name, broadcaster_ID, follower_number, broadcaster_language, total_views_of_this_broadcaster, language, to_date(stream_created_time) as Date from twitch\")\n",
    "twitch.printSchema()\n",
    "twitch.show()"
   ]
  },
  {
   "cell_type": "code",
   "execution_count": 7,
   "metadata": {},
   "outputs": [
    {
     "name": "stdout",
     "output_type": "stream",
     "text": [
      "+--------------------+\n",
      "|           game_name|\n",
      "+--------------------+\n",
      "|              Dota 2|\n",
      "|The Elder Scrolls...|\n",
      "|       Ice cold beer|\n",
      "|Legacy of Kain: S...|\n",
      "|  Legend of Grimrock|\n",
      "|                RIFT|\n",
      "|          Videogames|\n",
      "|Divinity Original...|\n",
      "| H1Z1, 7 days to die|\n",
      "|Call of Duty: Bla...|\n",
      "|lets go for that ...|\n",
      "|Pokémon Ruby/Sapp...|\n",
      "|            Warcraft|\n",
      "|           Lets Play|\n",
      "|Super Street Figh...|\n",
      "|              Flower|\n",
      "|         Орден: 1886|\n",
      "|   Bioshock Infinite|\n",
      "|            My Life.|\n",
      "|The Legend of Zel...|\n",
      "+--------------------+\n",
      "only showing top 20 rows\n",
      "\n"
     ]
    }
   ],
   "source": [
    "twitch_games=spark.sql(\"SELECT DISTINCT game_name FROM twitch\")\n",
    "twitch_games.show()"
   ]
  },
  {
   "cell_type": "markdown",
   "metadata": {},
   "source": [
    "# Find the top 20 games with most broadcasters: "
   ]
  },
  {
   "cell_type": "code",
   "execution_count": 8,
   "metadata": {},
   "outputs": [],
   "source": [
    "game_broadcaster=spark.sql(\"SELECT game_name, count(Broadcaster_ID) AS BroadcastNum FROM twitch GROUP BY game_name ORDER BY BroadcastNum DESC\")"
   ]
  },
  {
   "cell_type": "code",
   "execution_count": 9,
   "metadata": {},
   "outputs": [
    {
     "name": "stdout",
     "output_type": "stream",
     "text": [
      "+--------------------+------------+\n",
      "|           game_name|BroadcastNum|\n",
      "+--------------------+------------+\n",
      "|   League of Legends|     6254903|\n",
      "|Counter-Strike: G...|     2534811|\n",
      "|                  -1|     2247275|\n",
      "|           Minecraft|     2238612|\n",
      "|         Dying Light|     2219019|\n",
      "|             Destiny|     1968721|\n",
      "|World of Warcraft...|     1868790|\n",
      "|Call of Duty: Adv...|     1592966|\n",
      "|             FIFA 15|     1560420|\n",
      "|  Grand Theft Auto V|     1558320|\n",
      "+--------------------+------------+\n",
      "only showing top 10 rows\n",
      "\n"
     ]
    }
   ],
   "source": [
    "game_broadcaster.show(10)"
   ]
  },
  {
   "cell_type": "code",
   "execution_count": 10,
   "metadata": {},
   "outputs": [
    {
     "name": "stdout",
     "output_type": "stream",
     "text": [
      "root\n",
      " |-- game_name: string (nullable = true)\n",
      " |-- BroadcastNum: long (nullable = false)\n",
      "\n"
     ]
    }
   ],
   "source": [
    "game_broadcaster.printSchema()"
   ]
  },
  {
   "cell_type": "code",
   "execution_count": 11,
   "metadata": {},
   "outputs": [],
   "source": [
    "from pyspark.sql.types import IntegerType"
   ]
  },
  {
   "cell_type": "code",
   "execution_count": 12,
   "metadata": {},
   "outputs": [],
   "source": [
    "game_broadcaster = game_broadcaster.withColumn(\"BroadcastNum\", game_broadcaster[\"BroadcastNum\"].cast(IntegerType()))"
   ]
  },
  {
   "cell_type": "code",
   "execution_count": 13,
   "metadata": {},
   "outputs": [
    {
     "name": "stdout",
     "output_type": "stream",
     "text": [
      "root\n",
      " |-- game_name: string (nullable = true)\n",
      " |-- BroadcastNum: integer (nullable = false)\n",
      "\n"
     ]
    }
   ],
   "source": [
    "game_broadcaster.printSchema()"
   ]
  },
  {
   "cell_type": "code",
   "execution_count": 14,
   "metadata": {},
   "outputs": [],
   "source": [
    "%matplotlib inline\n",
    "import seaborn as sns"
   ]
  },
  {
   "cell_type": "code",
   "execution_count": 15,
   "metadata": {},
   "outputs": [
    {
     "name": "stderr",
     "output_type": "stream",
     "text": [
      "/home/hadoop/miniconda/lib/python3.7/site-packages/pyarrow/util.py:39: FutureWarning: pyarrow.open_stream is deprecated as of 0.17.0, please use pyarrow.ipc.open_stream instead\n",
      "  warnings.warn(msg, FutureWarning)\n"
     ]
    }
   ],
   "source": [
    "game_broadcaster_pandas=game_broadcaster.toPandas()"
   ]
  },
  {
   "cell_type": "code",
   "execution_count": 16,
   "metadata": {},
   "outputs": [
    {
     "data": {
      "text/html": [
       "<div>\n",
       "<style scoped>\n",
       "    .dataframe tbody tr th:only-of-type {\n",
       "        vertical-align: middle;\n",
       "    }\n",
       "\n",
       "    .dataframe tbody tr th {\n",
       "        vertical-align: top;\n",
       "    }\n",
       "\n",
       "    .dataframe thead th {\n",
       "        text-align: right;\n",
       "    }\n",
       "</style>\n",
       "<table border=\"1\" class=\"dataframe\">\n",
       "  <thead>\n",
       "    <tr style=\"text-align: right;\">\n",
       "      <th></th>\n",
       "      <th>game_name</th>\n",
       "      <th>BroadcastNum</th>\n",
       "    </tr>\n",
       "  </thead>\n",
       "  <tbody>\n",
       "    <tr>\n",
       "      <th>0</th>\n",
       "      <td>League of Legends</td>\n",
       "      <td>6254903</td>\n",
       "    </tr>\n",
       "    <tr>\n",
       "      <th>1</th>\n",
       "      <td>Counter-Strike: Global Offensive</td>\n",
       "      <td>2534811</td>\n",
       "    </tr>\n",
       "    <tr>\n",
       "      <th>2</th>\n",
       "      <td>-1</td>\n",
       "      <td>2247275</td>\n",
       "    </tr>\n",
       "    <tr>\n",
       "      <th>3</th>\n",
       "      <td>Minecraft</td>\n",
       "      <td>2238612</td>\n",
       "    </tr>\n",
       "    <tr>\n",
       "      <th>4</th>\n",
       "      <td>Dying Light</td>\n",
       "      <td>2219019</td>\n",
       "    </tr>\n",
       "  </tbody>\n",
       "</table>\n",
       "</div>"
      ],
      "text/plain": [
       "                          game_name  BroadcastNum\n",
       "0                 League of Legends       6254903\n",
       "1  Counter-Strike: Global Offensive       2534811\n",
       "2                                -1       2247275\n",
       "3                         Minecraft       2238612\n",
       "4                       Dying Light       2219019"
      ]
     },
     "execution_count": 16,
     "metadata": {},
     "output_type": "execute_result"
    }
   ],
   "source": [
    "game_broadcaster_pandas.head()"
   ]
  },
  {
   "cell_type": "code",
   "execution_count": 17,
   "metadata": {},
   "outputs": [
    {
     "data": {
      "image/png": "[encoded data removed]",
      "text/plain": [
       "<Figure size 432x288 with 1 Axes>"
      ]
     },
     "metadata": {
      "needs_background": "light"
     },
     "output_type": "display_data"
    }
   ],
   "source": [
    "ax=sns.barplot(x='game_name',y='BroadcastNum', data=game_broadcaster_pandas[0:20])\n",
    "b=ax.set_xticklabels(game_broadcaster_pandas[0:20]['game_name'],rotation=90)"
   ]
  },
  {
   "cell_type": "markdown",
   "metadata": {},
   "source": [
    "# Find the top 25 games with most followers: "
   ]
  },
  {
   "cell_type": "code",
   "execution_count": 18,
   "metadata": {},
   "outputs": [],
   "source": [
    "twitch = twitch.withColumn(\"follower_number\", twitch[\"follower_number\"].cast(IntegerType()))\n",
    "twitch.createOrReplaceTempView(\"twitch\")"
   ]
  },
  {
   "cell_type": "code",
   "execution_count": 19,
   "metadata": {},
   "outputs": [],
   "source": [
    "game_follower=spark.sql(\"SELECT game_name, sum(follower_number) AS FollowerNum FROM twitch GROUP BY game_name ORDER BY FollowerNum DESC\")"
   ]
  },
  {
   "cell_type": "code",
   "execution_count": 20,
   "metadata": {},
   "outputs": [
    {
     "name": "stdout",
     "output_type": "stream",
     "text": [
      "+--------------------+-----------+\n",
      "|           game_name|FollowerNum|\n",
      "+--------------------+-----------+\n",
      "|   League of Legends|15903724617|\n",
      "|Counter-Strike: G...| 7996278926|\n",
      "|           Minecraft| 5306900412|\n",
      "|                H1Z1| 4180455092|\n",
      "|World of Warcraft...| 3808657268|\n",
      "|Hearthstone: Hero...| 3708075488|\n",
      "|              Dota 2| 2884217949|\n",
      "|Call of Duty: Adv...| 1880388181|\n",
      "|             Destiny| 1852686614|\n",
      "|         Dying Light| 1759005899|\n",
      "+--------------------+-----------+\n",
      "only showing top 10 rows\n",
      "\n"
     ]
    }
   ],
   "source": [
    "game_follower.show(10)"
   ]
  },
  {
   "cell_type": "code",
   "execution_count": 21,
   "metadata": {},
   "outputs": [
    {
     "name": "stderr",
     "output_type": "stream",
     "text": [
      "/home/hadoop/miniconda/lib/python3.7/site-packages/pyarrow/util.py:39: FutureWarning: pyarrow.open_stream is deprecated as of 0.17.0, please use pyarrow.ipc.open_stream instead\n",
      "  warnings.warn(msg, FutureWarning)\n"
     ]
    }
   ],
   "source": [
    "game_follower_pandas=game_follower.toPandas()"
   ]
  },
  {
   "cell_type": "code",
   "execution_count": 22,
   "metadata": {},
   "outputs": [
    {
     "data": {
      "image/png": "[encoded data removed]",
      "text/plain": [
       "<Figure size 432x288 with 1 Axes>"
      ]
     },
     "metadata": {
      "needs_background": "light"
     },
     "output_type": "display_data"
    }
   ],
   "source": [
    "ax=sns.barplot(x='game_name',y='FollowerNum', data=game_follower_pandas[0:25])\n",
    "b=ax.set_xticklabels(game_follower_pandas[0:25]['game_name'],rotation=90)"
   ]
  },
  {
   "cell_type": "markdown",
   "metadata": {},
   "source": [
    "# Find the top 25 games with most total views: "
   ]
  },
  {
   "cell_type": "code",
   "execution_count": 23,
   "metadata": {},
   "outputs": [],
   "source": [
    "twitch = twitch.withColumn(\"total_views_of_this_broadcaster\", twitch[\"total_views_of_this_broadcaster\"].cast(IntegerType()))\n",
    "twitch.createOrReplaceTempView(\"twitch\")"
   ]
  },
  {
   "cell_type": "code",
   "execution_count": 24,
   "metadata": {},
   "outputs": [],
   "source": [
    "game_view=spark.sql(\"SELECT game_name, sum(total_views_of_this_broadcaster) AS TotalViewNum FROM twitch GROUP BY game_name ORDER BY TotalViewNum DESC\")"
   ]
  },
  {
   "cell_type": "code",
   "execution_count": 25,
   "metadata": {},
   "outputs": [
    {
     "name": "stdout",
     "output_type": "stream",
     "text": [
      "+--------------------+-------------+\n",
      "|           game_name| TotalViewNum|\n",
      "+--------------------+-------------+\n",
      "|   League of Legends|2294878899237|\n",
      "|              Dota 2|1264588909288|\n",
      "|Counter-Strike: G...| 579284610450|\n",
      "|World of Warcraft...| 506605678375|\n",
      "|Hearthstone: Hero...| 452381241829|\n",
      "|                H1Z1| 369572417429|\n",
      "|               Smite| 336938279171|\n",
      "|      World of Tanks| 272322776043|\n",
      "|StarCraft II: Hea...| 271791997213|\n",
      "| Heroes of the Storm| 252555788666|\n",
      "+--------------------+-------------+\n",
      "only showing top 10 rows\n",
      "\n"
     ]
    }
   ],
   "source": [
    "game_view.show(10)"
   ]
  },
  {
   "cell_type": "code",
   "execution_count": 26,
   "metadata": {},
   "outputs": [],
   "source": [
    "game_view_pandas=game_view.toPandas()"
   ]
  },
  {
   "cell_type": "code",
   "execution_count": 27,
   "metadata": {},
   "outputs": [
    {
     "data": {
      "image/png": "[encoded data removed]",
      "text/plain": [
       "<Figure size 432x288 with 1 Axes>"
      ]
     },
     "metadata": {
      "needs_background": "light"
     },
     "output_type": "display_data"
    }
   ],
   "source": [
    "ax=sns.barplot(x='game_name',y='TotalViewNum', data=game_view_pandas[0:25])\n",
    "b=ax.set_xticklabels(game_follower_pandas[0:25]['game_name'],rotation=90)"
   ]
  },
  {
   "cell_type": "markdown",
   "metadata": {},
   "source": [
    "# game amazon"
   ]
  },
  {
   "cell_type": "code",
   "execution_count": 30,
   "metadata": {},
   "outputs": [],
   "source": [
    "amazon_fullgame = spark.read.json(\"s3://502-project/amazon_game_data\")"
   ]
  },
  {
   "cell_type": "code",
   "execution_count": 31,
   "metadata": {},
   "outputs": [],
   "source": [
    "from pyspark.sql.types import DoubleType\n",
    "amazon_fullgame = amazon_fullgame.withColumn(\"overall\", amazon_fullgame[\"overall\"].cast(DoubleType()))"
   ]
  },
  {
   "cell_type": "code",
   "execution_count": 32,
   "metadata": {},
   "outputs": [],
   "source": [
    "amazon_fullgame.createOrReplaceTempView(\"amazon_fullgame\")"
   ]
  },
  {
   "cell_type": "code",
   "execution_count": 36,
   "metadata": {},
   "outputs": [],
   "source": [
    "game_broadcaster=spark.sql(\"SELECT asin, count(overall) AS count FROM amazon_fullgame GROUP BY asin ORDER BY count DESC\")"
   ]
  },
  {
   "cell_type": "code",
   "execution_count": 37,
   "metadata": {},
   "outputs": [],
   "source": [
    "from pyspark.sql.types import IntegerType\n",
    "game_broadcaster = game_broadcaster.withColumn(\"count\", game_broadcaster[\"count\"].cast(IntegerType()))"
   ]
  },
  {
   "cell_type": "code",
   "execution_count": 38,
   "metadata": {},
   "outputs": [],
   "source": [
    "%matplotlib inline\n",
    "import seaborn as sns"
   ]
  },
  {
   "cell_type": "code",
   "execution_count": 39,
   "metadata": {},
   "outputs": [
    {
     "name": "stderr",
     "output_type": "stream",
     "text": [
      "/home/hadoop/miniconda/lib/python3.7/site-packages/pyarrow/util.py:39: FutureWarning: pyarrow.open_stream is deprecated as of 0.17.0, please use pyarrow.ipc.open_stream instead\n",
      "  warnings.warn(msg, FutureWarning)\n"
     ]
    }
   ],
   "source": [
    "game_broadcaster_pandas=game_broadcaster.toPandas()"
   ]
  },
  {
   "cell_type": "code",
   "execution_count": 40,
   "metadata": {},
   "outputs": [
    {
     "data": {
      "text/html": [
       "<div>\n",
       "<style scoped>\n",
       "    .dataframe tbody tr th:only-of-type {\n",
       "        vertical-align: middle;\n",
       "    }\n",
       "\n",
       "    .dataframe tbody tr th {\n",
       "        vertical-align: top;\n",
       "    }\n",
       "\n",
       "    .dataframe thead th {\n",
       "        text-align: right;\n",
       "    }\n",
       "</style>\n",
       "<table border=\"1\" class=\"dataframe\">\n",
       "  <thead>\n",
       "    <tr style=\"text-align: right;\">\n",
       "      <th></th>\n",
       "      <th>asin</th>\n",
       "      <th>count</th>\n",
       "    </tr>\n",
       "  </thead>\n",
       "  <tbody>\n",
       "    <tr>\n",
       "      <th>0</th>\n",
       "      <td>B00DJFIMW6</td>\n",
       "      <td>16221</td>\n",
       "    </tr>\n",
       "    <tr>\n",
       "      <th>1</th>\n",
       "      <td>B00BGA9WK2</td>\n",
       "      <td>7561</td>\n",
       "    </tr>\n",
       "    <tr>\n",
       "      <th>2</th>\n",
       "      <td>B00FAX6XQC</td>\n",
       "      <td>5713</td>\n",
       "    </tr>\n",
       "    <tr>\n",
       "      <th>3</th>\n",
       "      <td>B009KS4XRO</td>\n",
       "      <td>5489</td>\n",
       "    </tr>\n",
       "    <tr>\n",
       "      <th>4</th>\n",
       "      <td>B002VBWIP6</td>\n",
       "      <td>5190</td>\n",
       "    </tr>\n",
       "  </tbody>\n",
       "</table>\n",
       "</div>"
      ],
      "text/plain": [
       "         asin  count\n",
       "0  B00DJFIMW6  16221\n",
       "1  B00BGA9WK2   7561\n",
       "2  B00FAX6XQC   5713\n",
       "3  B009KS4XRO   5489\n",
       "4  B002VBWIP6   5190"
      ]
     },
     "execution_count": 40,
     "metadata": {},
     "output_type": "execute_result"
    }
   ],
   "source": [
    "game_broadcaster_pandas.head()"
   ]
  },
  {
   "cell_type": "code",
   "execution_count": 41,
   "metadata": {},
   "outputs": [
    {
     "data": {
      "image/png": "[encoded data removed]",
      "text/plain": [
       "<Figure size 432x288 with 1 Axes>"
      ]
     },
     "metadata": {
      "needs_background": "light"
     },
     "output_type": "display_data"
    }
   ],
   "source": [
    "ax=sns.barplot(x='asin',y='count', data=game_broadcaster_pandas[0:20])\n",
    "b=ax.set_xticklabels(game_broadcaster_pandas[0:20]['asin'],rotation=90)"
   ]
  },
  {
   "cell_type": "code",
   "execution_count": 43,
   "metadata": {},
   "outputs": [
    {
     "data": {
      "text/plain": [
       "0     B00DJFIMW6\n",
       "1     B00BGA9WK2\n",
       "2     B00FAX6XQC\n",
       "3     B009KS4XRO\n",
       "4     B002VBWIP6\n",
       "5     B0055SWM08\n",
       "6     B00CSR2J9I\n",
       "7     B0015AARJI\n",
       "8     B00178630A\n",
       "9     B000FKBCX4\n",
       "10    B007VTVRFA\n",
       "11    B000B9RI14\n",
       "12    B007FTE2VW\n",
       "13    B00AIUUXHC\n",
       "14    B003VANOFY\n",
       "15    B0009VXBAQ\n",
       "16    B0050SYX8W\n",
       "17    B0029LJIFG\n",
       "18    B00CMQTVK0\n",
       "19    B005EQE0YM\n",
       "Name: asin, dtype: object"
      ]
     },
     "execution_count": 43,
     "metadata": {},
     "output_type": "execute_result"
    }
   ],
   "source": [
    "game_broadcaster_pandas[0:20]['asin']\n"
   ]
  },
  {
   "cell_type": "code",
   "execution_count": 44,
   "metadata": {},
   "outputs": [
    {
     "data": {
      "text/plain": [
       "0     16221\n",
       "1      7561\n",
       "2      5713\n",
       "3      5489\n",
       "4      5190\n",
       "5      4638\n",
       "6      4510\n",
       "7      4468\n",
       "8      3522\n",
       "9      3290\n",
       "10     3122\n",
       "11     2996\n",
       "12     2743\n",
       "13     2739\n",
       "14     2572\n",
       "15     2409\n",
       "16     2346\n",
       "17     2309\n",
       "18     2219\n",
       "19     2194\n",
       "Name: count, dtype: int32"
      ]
     },
     "execution_count": 44,
     "metadata": {},
     "output_type": "execute_result"
    }
   ],
   "source": [
    "game_broadcaster_pandas[0:20]['count']"
   ]
  },
  {
   "cell_type": "markdown",
   "metadata": {},
   "source": [
    "# The list of top popular games on Amazon\n",
    "#### (1) Minion Rush: Despicable Me Official Game \n",
    "#### (2)PlayStation 4 500GB Console \n",
    "#### (3)DEER HUNTER CLASSIC \n",
    "#### (4)BINGO BLITZ: Play Free Bingo games \n",
    "#### (5)Xbox Live Gold: 12 Month Membership \n",
    "#### (6)Quell\n",
    "#### (7)Hill Climb Racing\n",
    "#### (8)PlayStation 3 Dualshock 3 Wireless Controller \n",
    "#### (9)Diablo III\n",
    "#### (10)Spore - PC/Mac \n",
    "#### (11)SimCity - Standard Edition\n",
    "#### (12)Xbox 360 LIVE 4000 Points\n",
    "#### (13)SimCity: Limited Edition\n",
    "#### (14)Hungry Shark Evolution\n",
    "#### (15)Logitech Wireless Gaming Headset G930 with 7.1 Surround Sound, Wireless Headphones with Microphone\n",
    "#### (16)Wii\n",
    "#### (17)Halo 4 - Xbox 360 (Standard Game)\n",
    "#### (18)Xbox LIVE 12 Month Gold Membership Card\n",
    "#### (19)Xbox One with Kinect (Day One Edition)\n",
    "#### (20)Turtle Beach - Ear Force X12 Amplified Stereo Gaming Headset - Xbox 360 (Discontinued by Manufacturer)"
   ]
  },
  {
   "cell_type": "markdown",
   "metadata": {},
   "source": [
    "# Discover the average game ratings for top popular games "
   ]
  },
  {
   "cell_type": "code",
   "execution_count": 3,
   "metadata": {},
   "outputs": [],
   "source": [
    "amazon_fullgame = spark.read.json(\"s3://502-project/amazon_game_data\")"
   ]
  },
  {
   "cell_type": "code",
   "execution_count": 4,
   "metadata": {},
   "outputs": [],
   "source": [
    "from pyspark.sql.types import DoubleType\n",
    "amazon_fullgame = amazon_fullgame.withColumn(\"overall\", amazon_fullgame[\"overall\"].cast(DoubleType()))"
   ]
  },
  {
   "cell_type": "code",
   "execution_count": 5,
   "metadata": {},
   "outputs": [],
   "source": [
    "amazon_fullgame.createOrReplaceTempView(\"amazon_fullgame\")"
   ]
  },
  {
   "cell_type": "markdown",
   "metadata": {},
   "source": [
    "### Use SparkSQL to extract the average ratings for the top popular games"
   ]
  },
  {
   "cell_type": "code",
   "execution_count": 10,
   "metadata": {},
   "outputs": [],
   "source": [
    "game_ratings=spark.sql(\"SELECT asin, mean(overall) AS average_ratings, count(overall) AS count FROM amazon_fullgame GROUP BY asin ORDER BY count DESC\")"
   ]
  },
  {
   "cell_type": "code",
   "execution_count": 11,
   "metadata": {},
   "outputs": [
    {
     "name": "stderr",
     "output_type": "stream",
     "text": [
      "/home/hadoop/miniconda/lib/python3.7/site-packages/pyarrow/util.py:39: FutureWarning: pyarrow.open_stream is deprecated as of 0.17.0, please use pyarrow.ipc.open_stream instead\n",
      "  warnings.warn(msg, FutureWarning)\n"
     ]
    },
    {
     "data": {
      "text/html": [
       "<div>\n",
       "<style scoped>\n",
       "    .dataframe tbody tr th:only-of-type {\n",
       "        vertical-align: middle;\n",
       "    }\n",
       "\n",
       "    .dataframe tbody tr th {\n",
       "        vertical-align: top;\n",
       "    }\n",
       "\n",
       "    .dataframe thead th {\n",
       "        text-align: right;\n",
       "    }\n",
       "</style>\n",
       "<table border=\"1\" class=\"dataframe\">\n",
       "  <thead>\n",
       "    <tr style=\"text-align: right;\">\n",
       "      <th></th>\n",
       "      <th>asin</th>\n",
       "      <th>average_ratings</th>\n",
       "      <th>count</th>\n",
       "    </tr>\n",
       "  </thead>\n",
       "  <tbody>\n",
       "    <tr>\n",
       "      <th>0</th>\n",
       "      <td>B00DJFIMW6</td>\n",
       "      <td>4.464645</td>\n",
       "      <td>16221</td>\n",
       "    </tr>\n",
       "    <tr>\n",
       "      <th>1</th>\n",
       "      <td>B00BGA9WK2</td>\n",
       "      <td>4.075519</td>\n",
       "      <td>7561</td>\n",
       "    </tr>\n",
       "    <tr>\n",
       "      <th>2</th>\n",
       "      <td>B00FAX6XQC</td>\n",
       "      <td>4.190268</td>\n",
       "      <td>5713</td>\n",
       "    </tr>\n",
       "    <tr>\n",
       "      <th>3</th>\n",
       "      <td>B009KS4XRO</td>\n",
       "      <td>4.046092</td>\n",
       "      <td>5489</td>\n",
       "    </tr>\n",
       "    <tr>\n",
       "      <th>4</th>\n",
       "      <td>B002VBWIP6</td>\n",
       "      <td>4.636802</td>\n",
       "      <td>5190</td>\n",
       "    </tr>\n",
       "  </tbody>\n",
       "</table>\n",
       "</div>"
      ],
      "text/plain": [
       "         asin  average_ratings  count\n",
       "0  B00DJFIMW6         4.464645  16221\n",
       "1  B00BGA9WK2         4.075519   7561\n",
       "2  B00FAX6XQC         4.190268   5713\n",
       "3  B009KS4XRO         4.046092   5489\n",
       "4  B002VBWIP6         4.636802   5190"
      ]
     },
     "execution_count": 11,
     "metadata": {},
     "output_type": "execute_result"
    }
   ],
   "source": [
    "game_ratings_pandas=game_ratings.toPandas()\n",
    "game_ratings_pandas.head()"
   ]
  },
  {
   "cell_type": "code",
   "execution_count": 12,
   "metadata": {},
   "outputs": [],
   "source": [
    "%matplotlib inline\n",
    "import seaborn as sns"
   ]
  },
  {
   "cell_type": "code",
   "execution_count": 14,
   "metadata": {},
   "outputs": [
    {
     "data": {
      "image/png": "[encoded data removed]",
      "text/plain": [
       "<Figure size 432x288 with 1 Axes>"
      ]
     },
     "metadata": {
      "needs_background": "light"
     },
     "output_type": "display_data"
    }
   ],
   "source": [
    "ax=sns.barplot(x='asin',y='average_ratings', data=game_ratings_pandas[0:20])\n",
    "b=ax.set_xticklabels(game_ratings_pandas[0:20]['asin'],rotation=90)"
   ]
  },
  {
   "cell_type": "markdown",
   "metadata": {},
   "source": [
    "# Discover the average game ratings for the least popular games "
   ]
  },
  {
   "cell_type": "markdown",
   "metadata": {},
   "source": [
    "### Use SparkSQL to extract the average ratings for the least popular games"
   ]
  },
  {
   "cell_type": "code",
   "execution_count": 15,
   "metadata": {},
   "outputs": [],
   "source": [
    "game_ratings2=spark.sql(\"SELECT asin, mean(overall) AS average_ratings, count(overall) AS count FROM amazon_fullgame GROUP BY asin ORDER BY count\")"
   ]
  },
  {
   "cell_type": "code",
   "execution_count": 17,
   "metadata": {},
   "outputs": [
    {
     "name": "stderr",
     "output_type": "stream",
     "text": [
      "/home/hadoop/miniconda/lib/python3.7/site-packages/pyarrow/util.py:39: FutureWarning: pyarrow.open_stream is deprecated as of 0.17.0, please use pyarrow.ipc.open_stream instead\n",
      "  warnings.warn(msg, FutureWarning)\n"
     ]
    },
    {
     "data": {
      "text/html": [
       "<div>\n",
       "<style scoped>\n",
       "    .dataframe tbody tr th:only-of-type {\n",
       "        vertical-align: middle;\n",
       "    }\n",
       "\n",
       "    .dataframe tbody tr th {\n",
       "        vertical-align: top;\n",
       "    }\n",
       "\n",
       "    .dataframe thead th {\n",
       "        text-align: right;\n",
       "    }\n",
       "</style>\n",
       "<table border=\"1\" class=\"dataframe\">\n",
       "  <thead>\n",
       "    <tr style=\"text-align: right;\">\n",
       "      <th></th>\n",
       "      <th>asin</th>\n",
       "      <th>average_ratings</th>\n",
       "      <th>count</th>\n",
       "    </tr>\n",
       "  </thead>\n",
       "  <tbody>\n",
       "    <tr>\n",
       "      <th>0</th>\n",
       "      <td>B000809OLI</td>\n",
       "      <td>3.8</td>\n",
       "      <td>5</td>\n",
       "    </tr>\n",
       "    <tr>\n",
       "      <th>1</th>\n",
       "      <td>B004EBMFVS</td>\n",
       "      <td>5.0</td>\n",
       "      <td>5</td>\n",
       "    </tr>\n",
       "    <tr>\n",
       "      <th>2</th>\n",
       "      <td>B007OXWJ4G</td>\n",
       "      <td>5.0</td>\n",
       "      <td>5</td>\n",
       "    </tr>\n",
       "    <tr>\n",
       "      <th>3</th>\n",
       "      <td>B00004WMRF</td>\n",
       "      <td>3.4</td>\n",
       "      <td>5</td>\n",
       "    </tr>\n",
       "    <tr>\n",
       "      <th>4</th>\n",
       "      <td>B000035Y0B</td>\n",
       "      <td>3.8</td>\n",
       "      <td>5</td>\n",
       "    </tr>\n",
       "  </tbody>\n",
       "</table>\n",
       "</div>"
      ],
      "text/plain": [
       "         asin  average_ratings  count\n",
       "0  B000809OLI              3.8      5\n",
       "1  B004EBMFVS              5.0      5\n",
       "2  B007OXWJ4G              5.0      5\n",
       "3  B00004WMRF              3.4      5\n",
       "4  B000035Y0B              3.8      5"
      ]
     },
     "execution_count": 17,
     "metadata": {},
     "output_type": "execute_result"
    }
   ],
   "source": [
    "game_ratings2_pandas=game_ratings2.toPandas()\n",
    "game_ratings2_pandas.head()"
   ]
  },
  {
   "cell_type": "code",
   "execution_count": 18,
   "metadata": {},
   "outputs": [
    {
     "data": {
      "image/png": "[encoded data removed]",
      "text/plain": [
       "<Figure size 432x288 with 1 Axes>"
      ]
     },
     "metadata": {
      "needs_background": "light"
     },
     "output_type": "display_data"
    }
   ],
   "source": [
    "ax=sns.barplot(x='asin',y='average_ratings', data=game_ratings2_pandas[0:20])\n",
    "b=ax.set_xticklabels(game_ratings2_pandas[0:20]['asin'],rotation=90)"
   ]
  },
  {
   "cell_type": "code",
   "execution_count": 19,
   "metadata": {},
   "outputs": [],
   "source": [
    "sc.stop()\n",
    "spark.stop()"
   ]
  },
  {
   "cell_type": "code",
   "execution_count": null,
   "metadata": {},
   "outputs": [],
   "source": []
  },
  {
   "cell_type": "code",
   "execution_count": null,
   "metadata": {},
   "outputs": [],
   "source": []
  },
  {
   "cell_type": "code",
   "execution_count": null,
   "metadata": {},
   "outputs": [],
   "source": []
  }
 ],
 "metadata": {
  "kernelspec": {
   "display_name": "Python 3",
   "language": "python",
   "name": "python3"
  },
  "language_info": {
   "codemirror_mode": {
    "name": "ipython",
    "version": 3
   },
   "file_extension": ".py",
   "mimetype": "text/x-python",
   "name": "python",
   "nbconvert_exporter": "python",
   "pygments_lexer": "ipython3",
   "version": "3.7.3"
  }
 },
 "nbformat": 4,
 "nbformat_minor": 4
}
