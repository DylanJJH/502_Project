{
 "cells": [
  {
   "cell_type": "code",
   "execution_count": 1,
   "metadata": {},
   "outputs": [
    {
     "data": {
      "text/html": [
       "\n",
       "        <div>\n",
       "            <p><b>SparkContext</b></p>\n",
       "\n",
       "            <p><a href=\"http://ip-172-31-40-22.ec2.internal:4040\">Spark UI</a></p>\n",
       "\n",
       "            <dl>\n",
       "              <dt>Version</dt>\n",
       "                <dd><code>v2.4.4</code></dd>\n",
       "              <dt>Master</dt>\n",
       "                <dd><code>yarn</code></dd>\n",
       "              <dt>AppName</dt>\n",
       "                <dd><code>SparkSession</code></dd>\n",
       "            </dl>\n",
       "        </div>\n",
       "        "
      ],
      "text/plain": [
       "<SparkContext master=yarn appName=SparkSession>"
      ]
     },
     "execution_count": 1,
     "metadata": {},
     "output_type": "execute_result"
    }
   ],
   "source": [
    "import findspark\n",
    "findspark.init()\n",
    "from pyspark import SparkContext\n",
    "from pyspark.sql import SparkSession\n",
    "spark = SparkSession.builder \\\n",
    "     .appName(\"SparkSession\") \\\n",
    "     .getOrCreate()\n",
    "\n",
    "sc = spark.sparkContext \n",
    "sc"
   ]
  },
  {
   "cell_type": "code",
   "execution_count": 7,
   "metadata": {},
   "outputs": [],
   "source": [
    "from pyspark.sql.types import StructType\n",
    "from pyspark.sql.types import StructField\n",
    "from pyspark.sql.types import StringType\n",
    "from pyspark.sql.types import DateType\n",
    "import pyspark.sql.functions as func"
   ]
  },
  {
   "cell_type": "code",
   "execution_count": 8,
   "metadata": {},
   "outputs": [],
   "source": [
    "schema = StructType([\n",
    "    StructField(\"stream_ID\", StringType(), True),\n",
    "    StructField(\"current_views\", StringType(), True),\n",
    "    StructField(\"stream_created_time\", DateType(), True),\n",
    "    StructField(\"game_name\", StringType(), True),\n",
    "    StructField(\"broadcaster_ID\", StringType(), True),\n",
    "    StructField(\"broadcaster_name\", StringType(), True),\n",
    "    StructField(\"delay_setting\", StringType(), True),\n",
    "    StructField(\"follower_number\", StringType(), True),\n",
    "    StructField(\"partner_status\", StringType(), True),\n",
    "    StructField(\"broadcaster_language\", StringType(), True),\n",
    "    StructField(\"total_views_of_this_broadcaster\", StringType(), True),\n",
    "    StructField(\"language\", StringType(), True),\n",
    "    StructField(\"broadcasters_created_time\", StringType(), True),\n",
    "    StructField(\"playback_bitrate\", StringType(), True),\n",
    "    StructField(\"source_resolution\", StringType(), True),\n",
    "])"
   ]
  },
  {
   "cell_type": "code",
   "execution_count": 9,
   "metadata": {},
   "outputs": [
    {
     "name": "stdout",
     "output_type": "stream",
     "text": [
      "+-----------+-------------+-------------------+--------------------+--------------+-------------------+-------------+---------------+--------------+--------------------+-------------------------------+--------+-------------------------+----------------+-----------------+\n",
      "|  stream_ID|current_views|stream_created_time|           game_name|broadcaster_ID|   broadcaster_name|delay_setting|follower_number|partner_status|broadcaster_language|total_views_of_this_broadcaster|language|broadcasters_created_time|playback_bitrate|source_resolution|\n",
      "+-----------+-------------+-------------------+--------------------+--------------+-------------------+-------------+---------------+--------------+--------------------+-------------------------------+--------+-------------------------+----------------+-----------------+\n",
      "|13143376000|       206403|         2015-02-14|   League of Legends|      36029255|          riotgames|           -1|        1375163|          True|                  en|                      636705939|      en|     2012-09-08T06:53:10Z|         2638140|         1280x720|\n",
      "|13137381936|        78525|         2015-02-14|Counter-Strike: G...|      31239503|           esltv_cs|           -1|         238950|          True|                  en|                       26775824|      pl|     2012-06-11T13:36:21Z|         2444460|         1280x720|\n",
      "|13144450944|        47007|         2015-02-14|           Minecraft|      15554591|    captainsparklez|           -1|         921635|          True|                  en|                       14392009|      en|     2010-09-12T23:55:54Z|         3018132|         1280x720|\n",
      "|13141516704|        31156|         2015-02-14|                H1Z1|      23161357|              lirik|           -1|         690274|          True|                  en|                       64984855|      en|     2011-06-27T18:34:45Z|         3247609|         1536x864|\n",
      "|13138856624|        21706|         2015-02-14|              Dota 2|      39176440|              dendi|           -1|         251151|          True|                  en|                       34604629|      ru|     2013-01-09T03:28:18Z|         2411437|        1920x1080|\n",
      "|13144304064|        16988|         2015-02-14|           Minecraft|      47176475|     omgitsfirefoxx|           -1|         404520|          True|                  en|                        3214041|      en|     2013-08-05T23:47:07Z|         3518289|         1280x720|\n",
      "|13141500112|        16015|         2015-02-14|Counter-Strike: G...|      80646824|          games4utv|           -1|            653|            -1|                  en|                          47195|      sv|     2015-01-23T17:47:38Z|         2670273|         1280x720|\n",
      "|13142879248|        15757|         2015-02-14|           Lucius II|      26301881|         sodapoppin|           -1|         657252|          True|                  en|                       81802355|      en|     2011-11-22T04:40:56Z|         2506179|        1920x1080|\n",
      "|13139732624|        13820|         2015-02-14|   League of Legends|      36511475|    riotgamesbrazil|           -1|         132915|          True|                  pt|                       33550390|      en|     2012-09-28T22:31:17Z|         2957742|         1280x720|\n",
      "|13136368448|        13605|         2015-02-14|Counter-Strike: G...|      75852992|stormstudio_csgo_ru|           -1|          18751|          True|                  ru|                        1839403|      ru|     2014-11-24T12:04:21Z|         3430843|         1280x720|\n",
      "+-----------+-------------+-------------------+--------------------+--------------+-------------------+-------------+---------------+--------------+--------------------+-------------------------------+--------+-------------------------+----------------+-----------------+\n",
      "only showing top 10 rows\n",
      "\n"
     ]
    }
   ],
   "source": [
    "twitch = spark.read.csv('s3://502-project/Twitch_data',sep = \"\\t\", schema=schema)\n",
    "twitch.show(10)"
   ]
  },
  {
   "cell_type": "code",
   "execution_count": 5,
   "metadata": {},
   "outputs": [
    {
     "name": "stdout",
     "output_type": "stream",
     "text": [
      "+-------------+-------------------+--------------------+--------------+---------------+--------------------+-------------------------------+--------+\n",
      "|current_views|stream_created_time|           game_name|broadcaster_ID|follower_number|broadcaster_language|total_views_of_this_broadcaster|language|\n",
      "+-------------+-------------------+--------------------+--------------+---------------+--------------------+-------------------------------+--------+\n",
      "|       206403|         2015-02-14|   League of Legends|      36029255|        1375163|                  en|                      636705939|      en|\n",
      "|        78525|         2015-02-14|Counter-Strike: G...|      31239503|         238950|                  en|                       26775824|      pl|\n",
      "|        47007|         2015-02-14|           Minecraft|      15554591|         921635|                  en|                       14392009|      en|\n",
      "|        31156|         2015-02-14|                H1Z1|      23161357|         690274|                  en|                       64984855|      en|\n",
      "|        21706|         2015-02-14|              Dota 2|      39176440|         251151|                  en|                       34604629|      ru|\n",
      "|        16988|         2015-02-14|           Minecraft|      47176475|         404520|                  en|                        3214041|      en|\n",
      "|        16015|         2015-02-14|Counter-Strike: G...|      80646824|            653|                  en|                          47195|      sv|\n",
      "|        15757|         2015-02-14|           Lucius II|      26301881|         657252|                  en|                       81802355|      en|\n",
      "|        13820|         2015-02-14|   League of Legends|      36511475|         132915|                  pt|                       33550390|      en|\n",
      "|        13605|         2015-02-14|Counter-Strike: G...|      75852992|          18751|                  ru|                        1839403|      ru|\n",
      "+-------------+-------------------+--------------------+--------------+---------------+--------------------+-------------------------------+--------+\n",
      "only showing top 10 rows\n",
      "\n"
     ]
    }
   ],
   "source": [
    "#remove unnecessary columns\n",
    "twitch = twitch.drop(\"broadcasters_created_time\").drop(\"stream_ID\").drop(\"delay_setting\").drop(\"playback_bitrate\").drop(\"source_resolution\")\n",
    "twitch = twitch.drop(\"broadcaster_name\").drop(\"partner_status\")"
   ]
  },
  {
   "cell_type": "code",
   "execution_count": 10,
   "metadata": {},
   "outputs": [
    {
     "name": "stdout",
     "output_type": "stream",
     "text": [
      "root\n",
      " |-- current_views: string (nullable = true)\n",
      " |-- game_name: string (nullable = true)\n",
      " |-- broadcaster_ID: string (nullable = true)\n",
      " |-- follower_number: string (nullable = true)\n",
      " |-- broadcaster_language: string (nullable = true)\n",
      " |-- total_views_of_this_broadcaster: string (nullable = true)\n",
      " |-- language: string (nullable = true)\n",
      " |-- Date: date (nullable = true)\n",
      "\n",
      "+-------------+--------------------+--------------+---------------+--------------------+-------------------------------+--------+----------+\n",
      "|current_views|           game_name|broadcaster_ID|follower_number|broadcaster_language|total_views_of_this_broadcaster|language|      Date|\n",
      "+-------------+--------------------+--------------+---------------+--------------------+-------------------------------+--------+----------+\n",
      "|       206403|   League of Legends|      36029255|        1375163|                  en|                      636705939|      en|2015-02-14|\n",
      "|        78525|Counter-Strike: G...|      31239503|         238950|                  en|                       26775824|      pl|2015-02-14|\n",
      "|        47007|           Minecraft|      15554591|         921635|                  en|                       14392009|      en|2015-02-14|\n",
      "|        31156|                H1Z1|      23161357|         690274|                  en|                       64984855|      en|2015-02-14|\n",
      "|        21706|              Dota 2|      39176440|         251151|                  en|                       34604629|      ru|2015-02-14|\n",
      "|        16988|           Minecraft|      47176475|         404520|                  en|                        3214041|      en|2015-02-14|\n",
      "|        16015|Counter-Strike: G...|      80646824|            653|                  en|                          47195|      sv|2015-02-14|\n",
      "|        15757|           Lucius II|      26301881|         657252|                  en|                       81802355|      en|2015-02-14|\n",
      "|        13820|   League of Legends|      36511475|         132915|                  pt|                       33550390|      en|2015-02-14|\n",
      "|        13605|Counter-Strike: G...|      75852992|          18751|                  ru|                        1839403|      ru|2015-02-14|\n",
      "|        12308|Hearthstone: Hero...|      29107421|         137022|                  en|                        9498616|      ru|2015-02-14|\n",
      "|         9510|              Dota 2|      44079069|           3886|                  en|                        1390584|      en|2015-02-14|\n",
      "|         9279|              Dota 2|      21390470|         169794|                  ru|                       29832516|      en|2015-02-14|\n",
      "|         8274|Magic: The Gathering|      22480377|          54352|                  en|                       43546398|      en|2015-02-14|\n",
      "|         7584|                H1Z1|      22484632|         162846|                  en|                       12804781|      sv|2015-02-14|\n",
      "|         7459|               Smite|      31500812|         202886|                  en|                      115621469|      en|2015-02-14|\n",
      "|         6887|   Gaming Talk Shows|      47627824|         117656|                  de|                        7287642|      de|2015-02-11|\n",
      "|         6985|Pokémon Omega Rub...|      36653045|          61224|                  en|                        5028893|      en|2015-02-14|\n",
      "|         6336|World of Warcraft...|      30383713|         192600|                  en|                       65465177|      en|2015-02-14|\n",
      "|         6021|           Minecraft|      43693402|         147898|                  de|                        3376032|      de|2015-02-14|\n",
      "+-------------+--------------------+--------------+---------------+--------------------+-------------------------------+--------+----------+\n",
      "only showing top 20 rows\n",
      "\n"
     ]
    }
   ],
   "source": [
    "twitch.createOrReplaceTempView(\"twitch\")\n",
    "twitch = spark.sql(\"select current_views, game_name, broadcaster_ID, follower_number, broadcaster_language, total_views_of_this_broadcaster, language, to_date(stream_created_time) as Date from twitch\")\n",
    "twitch.printSchema()\n",
    "twitch.show()"
   ]
  },
  {
   "cell_type": "code",
   "execution_count": 13,
   "metadata": {},
   "outputs": [
    {
     "name": "stdout",
     "output_type": "stream",
     "text": [
      "+--------------------+\n",
      "|           game_name|\n",
      "+--------------------+\n",
      "|              Dota 2|\n",
      "|The Elder Scrolls...|\n",
      "| H1Z1, 7 days to die|\n",
      "|lets go for that ...|\n",
      "|                RIFT|\n",
      "|Legacy of Kain: S...|\n",
      "|       Ice cold beer|\n",
      "|          Videogames|\n",
      "|Pokémon Ruby/Sapp...|\n",
      "|  Legend of Grimrock|\n",
      "|Divinity Original...|\n",
      "|            My Life.|\n",
      "|           Lets Play|\n",
      "|           Cleverbot|\n",
      "|Call of Duty: Bla...|\n",
      "|            Warcraft|\n",
      "|              Flower|\n",
      "|   Bioshock Infinite|\n",
      "|Super Street Figh...|\n",
      "|Minecraft: Xbox 3...|\n",
      "+--------------------+\n",
      "only showing top 20 rows\n",
      "\n"
     ]
    }
   ],
   "source": [
    "twitch_games=spark.sql(\"SELECT DISTINCT game_name FROM twitch\")\n",
    "twitch_games.show()"
   ]
  },
  {
   "cell_type": "code",
   "execution_count": 20,
   "metadata": {},
   "outputs": [
    {
     "ename": "AnalysisException",
     "evalue": "'\"current_views\" is not a numeric column. Aggregation function can only be applied on a numeric column.;'",
     "output_type": "error",
     "traceback": [
      "\u001b[0;31m---------------------------------------------------------------------------\u001b[0m",
      "\u001b[0;31mPy4JJavaError\u001b[0m                             Traceback (most recent call last)",
      "\u001b[0;32m/usr/lib/spark/python/pyspark/sql/utils.py\u001b[0m in \u001b[0;36mdeco\u001b[0;34m(*a, **kw)\u001b[0m\n\u001b[1;32m     62\u001b[0m         \u001b[0;32mtry\u001b[0m\u001b[0;34m:\u001b[0m\u001b[0;34m\u001b[0m\u001b[0;34m\u001b[0m\u001b[0m\n\u001b[0;32m---> 63\u001b[0;31m             \u001b[0;32mreturn\u001b[0m \u001b[0mf\u001b[0m\u001b[0;34m(\u001b[0m\u001b[0;34m*\u001b[0m\u001b[0ma\u001b[0m\u001b[0;34m,\u001b[0m \u001b[0;34m**\u001b[0m\u001b[0mkw\u001b[0m\u001b[0;34m)\u001b[0m\u001b[0;34m\u001b[0m\u001b[0;34m\u001b[0m\u001b[0m\n\u001b[0m\u001b[1;32m     64\u001b[0m         \u001b[0;32mexcept\u001b[0m \u001b[0mpy4j\u001b[0m\u001b[0;34m.\u001b[0m\u001b[0mprotocol\u001b[0m\u001b[0;34m.\u001b[0m\u001b[0mPy4JJavaError\u001b[0m \u001b[0;32mas\u001b[0m \u001b[0me\u001b[0m\u001b[0;34m:\u001b[0m\u001b[0;34m\u001b[0m\u001b[0;34m\u001b[0m\u001b[0m\n",
      "\u001b[0;32m/usr/lib/spark/python/lib/py4j-0.10.7-src.zip/py4j/protocol.py\u001b[0m in \u001b[0;36mget_return_value\u001b[0;34m(answer, gateway_client, target_id, name)\u001b[0m\n\u001b[1;32m    327\u001b[0m                     \u001b[0;34m\"An error occurred while calling {0}{1}{2}.\\n\"\u001b[0m\u001b[0;34m.\u001b[0m\u001b[0;34m\u001b[0m\u001b[0;34m\u001b[0m\u001b[0m\n\u001b[0;32m--> 328\u001b[0;31m                     format(target_id, \".\", name), value)\n\u001b[0m\u001b[1;32m    329\u001b[0m             \u001b[0;32melse\u001b[0m\u001b[0;34m:\u001b[0m\u001b[0;34m\u001b[0m\u001b[0;34m\u001b[0m\u001b[0m\n",
      "\u001b[0;31mPy4JJavaError\u001b[0m: An error occurred while calling o210.sum.\n: org.apache.spark.sql.AnalysisException: \"current_views\" is not a numeric column. Aggregation function can only be applied on a numeric column.;\n\tat org.apache.spark.sql.RelationalGroupedDataset$$anonfun$4.apply(RelationalGroupedDataset.scala:101)\n\tat org.apache.spark.sql.RelationalGroupedDataset$$anonfun$4.apply(RelationalGroupedDataset.scala:98)\n\tat scala.collection.TraversableLike$$anonfun$map$1.apply(TraversableLike.scala:234)\n\tat scala.collection.TraversableLike$$anonfun$map$1.apply(TraversableLike.scala:234)\n\tat scala.collection.Iterator$class.foreach(Iterator.scala:891)\n\tat scala.collection.AbstractIterator.foreach(Iterator.scala:1334)\n\tat scala.collection.IterableLike$class.foreach(IterableLike.scala:72)\n\tat scala.collection.AbstractIterable.foreach(Iterable.scala:54)\n\tat scala.collection.TraversableLike$class.map(TraversableLike.scala:234)\n\tat scala.collection.AbstractTraversable.map(Traversable.scala:104)\n\tat org.apache.spark.sql.RelationalGroupedDataset.aggregateNumericColumns(RelationalGroupedDataset.scala:98)\n\tat org.apache.spark.sql.RelationalGroupedDataset.sum(RelationalGroupedDataset.scala:296)\n\tat sun.reflect.NativeMethodAccessorImpl.invoke0(Native Method)\n\tat sun.reflect.NativeMethodAccessorImpl.invoke(NativeMethodAccessorImpl.java:62)\n\tat sun.reflect.DelegatingMethodAccessorImpl.invoke(DelegatingMethodAccessorImpl.java:43)\n\tat java.lang.reflect.Method.invoke(Method.java:498)\n\tat py4j.reflection.MethodInvoker.invoke(MethodInvoker.java:244)\n\tat py4j.reflection.ReflectionEngine.invoke(ReflectionEngine.java:357)\n\tat py4j.Gateway.invoke(Gateway.java:282)\n\tat py4j.commands.AbstractCommand.invokeMethod(AbstractCommand.java:132)\n\tat py4j.commands.CallCommand.execute(CallCommand.java:79)\n\tat py4j.GatewayConnection.run(GatewayConnection.java:238)\n\tat java.lang.Thread.run(Thread.java:748)\n",
      "\nDuring handling of the above exception, another exception occurred:\n",
      "\u001b[0;31mAnalysisException\u001b[0m                         Traceback (most recent call last)",
      "\u001b[0;32m<ipython-input-20-4cf658c1137b>\u001b[0m in \u001b[0;36m<module>\u001b[0;34m\u001b[0m\n\u001b[0;32m----> 1\u001b[0;31m \u001b[0mtwitch\u001b[0m\u001b[0;34m.\u001b[0m\u001b[0mgroupBy\u001b[0m\u001b[0;34m(\u001b[0m\u001b[0;34m\"Date\"\u001b[0m\u001b[0;34m)\u001b[0m\u001b[0;34m.\u001b[0m\u001b[0msum\u001b[0m\u001b[0;34m(\u001b[0m\u001b[0;34m'current_views'\u001b[0m\u001b[0;34m)\u001b[0m\u001b[0;34m\u001b[0m\u001b[0;34m\u001b[0m\u001b[0m\n\u001b[0m",
      "\u001b[0;32m/usr/lib/spark/python/pyspark/sql/group.py\u001b[0m in \u001b[0;36m_api\u001b[0;34m(self, *cols)\u001b[0m\n\u001b[1;32m     40\u001b[0m     \u001b[0;32mdef\u001b[0m \u001b[0m_api\u001b[0m\u001b[0;34m(\u001b[0m\u001b[0mself\u001b[0m\u001b[0;34m,\u001b[0m \u001b[0;34m*\u001b[0m\u001b[0mcols\u001b[0m\u001b[0;34m)\u001b[0m\u001b[0;34m:\u001b[0m\u001b[0;34m\u001b[0m\u001b[0;34m\u001b[0m\u001b[0m\n\u001b[1;32m     41\u001b[0m         \u001b[0mname\u001b[0m \u001b[0;34m=\u001b[0m \u001b[0mf\u001b[0m\u001b[0;34m.\u001b[0m\u001b[0m__name__\u001b[0m\u001b[0;34m\u001b[0m\u001b[0;34m\u001b[0m\u001b[0m\n\u001b[0;32m---> 42\u001b[0;31m         \u001b[0mjdf\u001b[0m \u001b[0;34m=\u001b[0m \u001b[0mgetattr\u001b[0m\u001b[0;34m(\u001b[0m\u001b[0mself\u001b[0m\u001b[0;34m.\u001b[0m\u001b[0m_jgd\u001b[0m\u001b[0;34m,\u001b[0m \u001b[0mname\u001b[0m\u001b[0;34m)\u001b[0m\u001b[0;34m(\u001b[0m\u001b[0m_to_seq\u001b[0m\u001b[0;34m(\u001b[0m\u001b[0mself\u001b[0m\u001b[0;34m.\u001b[0m\u001b[0msql_ctx\u001b[0m\u001b[0;34m.\u001b[0m\u001b[0m_sc\u001b[0m\u001b[0;34m,\u001b[0m \u001b[0mcols\u001b[0m\u001b[0;34m)\u001b[0m\u001b[0;34m)\u001b[0m\u001b[0;34m\u001b[0m\u001b[0;34m\u001b[0m\u001b[0m\n\u001b[0m\u001b[1;32m     43\u001b[0m         \u001b[0;32mreturn\u001b[0m \u001b[0mDataFrame\u001b[0m\u001b[0;34m(\u001b[0m\u001b[0mjdf\u001b[0m\u001b[0;34m,\u001b[0m \u001b[0mself\u001b[0m\u001b[0;34m.\u001b[0m\u001b[0msql_ctx\u001b[0m\u001b[0;34m)\u001b[0m\u001b[0;34m\u001b[0m\u001b[0;34m\u001b[0m\u001b[0m\n\u001b[1;32m     44\u001b[0m     \u001b[0m_api\u001b[0m\u001b[0;34m.\u001b[0m\u001b[0m__name__\u001b[0m \u001b[0;34m=\u001b[0m \u001b[0mf\u001b[0m\u001b[0;34m.\u001b[0m\u001b[0m__name__\u001b[0m\u001b[0;34m\u001b[0m\u001b[0;34m\u001b[0m\u001b[0m\n",
      "\u001b[0;32m/usr/lib/spark/python/lib/py4j-0.10.7-src.zip/py4j/java_gateway.py\u001b[0m in \u001b[0;36m__call__\u001b[0;34m(self, *args)\u001b[0m\n\u001b[1;32m   1255\u001b[0m         \u001b[0manswer\u001b[0m \u001b[0;34m=\u001b[0m \u001b[0mself\u001b[0m\u001b[0;34m.\u001b[0m\u001b[0mgateway_client\u001b[0m\u001b[0;34m.\u001b[0m\u001b[0msend_command\u001b[0m\u001b[0;34m(\u001b[0m\u001b[0mcommand\u001b[0m\u001b[0;34m)\u001b[0m\u001b[0;34m\u001b[0m\u001b[0;34m\u001b[0m\u001b[0m\n\u001b[1;32m   1256\u001b[0m         return_value = get_return_value(\n\u001b[0;32m-> 1257\u001b[0;31m             answer, self.gateway_client, self.target_id, self.name)\n\u001b[0m\u001b[1;32m   1258\u001b[0m \u001b[0;34m\u001b[0m\u001b[0m\n\u001b[1;32m   1259\u001b[0m         \u001b[0;32mfor\u001b[0m \u001b[0mtemp_arg\u001b[0m \u001b[0;32min\u001b[0m \u001b[0mtemp_args\u001b[0m\u001b[0;34m:\u001b[0m\u001b[0;34m\u001b[0m\u001b[0;34m\u001b[0m\u001b[0m\n",
      "\u001b[0;32m/usr/lib/spark/python/pyspark/sql/utils.py\u001b[0m in \u001b[0;36mdeco\u001b[0;34m(*a, **kw)\u001b[0m\n\u001b[1;32m     67\u001b[0m                                              e.java_exception.getStackTrace()))\n\u001b[1;32m     68\u001b[0m             \u001b[0;32mif\u001b[0m \u001b[0ms\u001b[0m\u001b[0;34m.\u001b[0m\u001b[0mstartswith\u001b[0m\u001b[0;34m(\u001b[0m\u001b[0;34m'org.apache.spark.sql.AnalysisException: '\u001b[0m\u001b[0;34m)\u001b[0m\u001b[0;34m:\u001b[0m\u001b[0;34m\u001b[0m\u001b[0;34m\u001b[0m\u001b[0m\n\u001b[0;32m---> 69\u001b[0;31m                 \u001b[0;32mraise\u001b[0m \u001b[0mAnalysisException\u001b[0m\u001b[0;34m(\u001b[0m\u001b[0ms\u001b[0m\u001b[0;34m.\u001b[0m\u001b[0msplit\u001b[0m\u001b[0;34m(\u001b[0m\u001b[0;34m': '\u001b[0m\u001b[0;34m,\u001b[0m \u001b[0;36m1\u001b[0m\u001b[0;34m)\u001b[0m\u001b[0;34m[\u001b[0m\u001b[0;36m1\u001b[0m\u001b[0;34m]\u001b[0m\u001b[0;34m,\u001b[0m \u001b[0mstackTrace\u001b[0m\u001b[0;34m)\u001b[0m\u001b[0;34m\u001b[0m\u001b[0;34m\u001b[0m\u001b[0m\n\u001b[0m\u001b[1;32m     70\u001b[0m             \u001b[0;32mif\u001b[0m \u001b[0ms\u001b[0m\u001b[0;34m.\u001b[0m\u001b[0mstartswith\u001b[0m\u001b[0;34m(\u001b[0m\u001b[0;34m'org.apache.spark.sql.catalyst.analysis'\u001b[0m\u001b[0;34m)\u001b[0m\u001b[0;34m:\u001b[0m\u001b[0;34m\u001b[0m\u001b[0;34m\u001b[0m\u001b[0m\n\u001b[1;32m     71\u001b[0m                 \u001b[0;32mraise\u001b[0m \u001b[0mAnalysisException\u001b[0m\u001b[0;34m(\u001b[0m\u001b[0ms\u001b[0m\u001b[0;34m.\u001b[0m\u001b[0msplit\u001b[0m\u001b[0;34m(\u001b[0m\u001b[0;34m': '\u001b[0m\u001b[0;34m,\u001b[0m \u001b[0;36m1\u001b[0m\u001b[0;34m)\u001b[0m\u001b[0;34m[\u001b[0m\u001b[0;36m1\u001b[0m\u001b[0;34m]\u001b[0m\u001b[0;34m,\u001b[0m \u001b[0mstackTrace\u001b[0m\u001b[0;34m)\u001b[0m\u001b[0;34m\u001b[0m\u001b[0;34m\u001b[0m\u001b[0m\n",
      "\u001b[0;31mAnalysisException\u001b[0m: '\"current_views\" is not a numeric column. Aggregation function can only be applied on a numeric column.;'"
     ]
    }
   ],
   "source": [
    "twitch.orderby"
   ]
  },
  {
   "cell_type": "code",
   "execution_count": null,
   "metadata": {},
   "outputs": [],
   "source": []
  }
 ],
 "metadata": {
  "kernelspec": {
   "display_name": "Python 3",
   "language": "python",
   "name": "python3"
  },
  "language_info": {
   "codemirror_mode": {
    "name": "ipython",
    "version": 3
   },
   "file_extension": ".py",
   "mimetype": "text/x-python",
   "name": "python",
   "nbconvert_exporter": "python",
   "pygments_lexer": "ipython3",
   "version": "3.7.6"
  }
 },
 "nbformat": 4,
 "nbformat_minor": 4
}
