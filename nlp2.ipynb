{
 "cells": [
  {
   "cell_type": "code",
   "execution_count": 1,
   "metadata": {},
   "outputs": [
    {
     "data": {
      "text/html": [
       "\n",
       "        <div>\n",
       "            <p><b>SparkContext</b></p>\n",
       "\n",
       "            <p><a href=\"http://ip-172-31-12-113.ec2.internal:4040\">Spark UI</a></p>\n",
       "\n",
       "            <dl>\n",
       "              <dt>Version</dt>\n",
       "                <dd><code>v2.4.4</code></dd>\n",
       "              <dt>Master</dt>\n",
       "                <dd><code>yarn</code></dd>\n",
       "              <dt>AppName</dt>\n",
       "                <dd><code>SparkSession</code></dd>\n",
       "            </dl>\n",
       "        </div>\n",
       "        "
      ],
      "text/plain": [
       "<SparkContext master=yarn appName=SparkSession>"
      ]
     },
     "execution_count": 1,
     "metadata": {},
     "output_type": "execute_result"
    }
   ],
   "source": [
    "import findspark\n",
    "findspark.init()\n",
    "from pyspark import SparkContext\n",
    "from pyspark.sql import SparkSession\n",
    "spark = SparkSession.builder \\\n",
    "     .appName(\"SparkSession\") \\\n",
    "     .getOrCreate()\n",
    "\n",
    "sc = spark.sparkContext \n",
    "sc"
   ]
  },
  {
   "cell_type": "code",
   "execution_count": 2,
   "metadata": {},
   "outputs": [],
   "source": [
    "amazon_data = spark.read.json(\"s3://qianyielva/video\")"
   ]
  },
  {
   "cell_type": "code",
   "execution_count": 3,
   "metadata": {},
   "outputs": [
    {
     "name": "stdout",
     "output_type": "stream",
     "text": [
      "root\n",
      " |-- asin: string (nullable = true)\n",
      " |-- helpful: array (nullable = true)\n",
      " |    |-- element: long (containsNull = true)\n",
      " |-- overall: double (nullable = true)\n",
      " |-- reviewText: string (nullable = true)\n",
      " |-- reviewTime: string (nullable = true)\n",
      " |-- reviewerID: string (nullable = true)\n",
      " |-- reviewerName: string (nullable = true)\n",
      " |-- summary: string (nullable = true)\n",
      " |-- unixReviewTime: long (nullable = true)\n",
      "\n"
     ]
    }
   ],
   "source": [
    "amazon_data.printSchema()"
   ]
  },
  {
   "cell_type": "code",
   "execution_count": 4,
   "metadata": {},
   "outputs": [
    {
     "name": "stdout",
     "output_type": "stream",
     "text": [
      "+----------+--------+-------+--------------------+-----------+--------------+--------------------+--------------------+--------------+\n",
      "|      asin| helpful|overall|          reviewText| reviewTime|    reviewerID|        reviewerName|             summary|unixReviewTime|\n",
      "+----------+--------+-------+--------------------+-----------+--------------+--------------------+--------------------+--------------+\n",
      "|0700099867| [8, 12]|    1.0|Installing the ga...| 07 9, 2012|A2HD75EMZR8QLN|                 123|Pay to unlock con...|    1341792000|\n",
      "|0700099867|  [0, 0]|    4.0|If you like rally...|06 30, 2013|A3UR8NLLY1ZHCX|Alejandro Henao \"...|     Good rally game|    1372550400|\n",
      "|0700099867|  [0, 0]|    1.0|1st shipment rece...|06 28, 2014|A1INA0F5CWW3J4|Amazon Shopper \"M...|           Wrong key|    1403913600|\n",
      "|0700099867| [7, 10]|    3.0|I got this versio...|09 14, 2011|A1DLMTOTHQ4AST|            ampgreen|awesome game, if ...|    1315958400|\n",
      "|0700099867|  [2, 2]|    4.0|I had Dirt 2 on X...|06 14, 2011|A361M14PU2GUEG|Angry Ryan \"Ryan ...|              DIRT 3|    1308009600|\n",
      "|0700099867|  [0, 0]|    4.0|Overall this is a...|05 11, 2013|A2UTRVO4FDCBH6|              A.R.G.|Good racing game,...|    1368230400|\n",
      "|0700099867|[11, 13]|    5.0|Loved playing Dir...|08 14, 2011| AN3YYDZAS3O1Y|                 Bob|A step up from Di...|    1313280000|\n",
      "|0700099867|  [1, 4]|    1.0|I can't tell you ...|11 24, 2012| AQTC623NCESZW|       Chesty Puller|Crash 3 is correc...|    1353715200|\n",
      "|0700099867|  [0, 1]|    4.0|I initially gave ...|11 14, 2012|A1QJJU33VNC4S7|              D@rkFX|A great game ruin...|    1352851200|\n",
      "|0700099867|  [1, 1]|    2.0|I still haven't f...| 02 8, 2014|A2JLT2WY0F2HVI|       D. Sweetapple|Couldn't get this...|    1391817600|\n",
      "+----------+--------+-------+--------------------+-----------+--------------+--------------------+--------------------+--------------+\n",
      "only showing top 10 rows\n",
      "\n"
     ]
    }
   ],
   "source": [
    "amazon_data.show(10)"
   ]
  },
  {
   "cell_type": "code",
   "execution_count": 7,
   "metadata": {},
   "outputs": [],
   "source": [
    "data = amazon_data.drop(\"helpful\").drop(\"reviewerID\").drop(\"unixReviewTime\").drop(\"reviewTime\").drop(\"reviewerName\")"
   ]
  },
  {
   "cell_type": "code",
   "execution_count": 8,
   "metadata": {},
   "outputs": [
    {
     "name": "stdout",
     "output_type": "stream",
     "text": [
      "+----------+-------+--------------------+--------------------+\n",
      "|      asin|overall|          reviewText|             summary|\n",
      "+----------+-------+--------------------+--------------------+\n",
      "|0700099867|    1.0|Installing the ga...|Pay to unlock con...|\n",
      "|0700099867|    4.0|If you like rally...|     Good rally game|\n",
      "|0700099867|    1.0|1st shipment rece...|           Wrong key|\n",
      "|0700099867|    3.0|I got this versio...|awesome game, if ...|\n",
      "|0700099867|    4.0|I had Dirt 2 on X...|              DIRT 3|\n",
      "|0700099867|    4.0|Overall this is a...|Good racing game,...|\n",
      "|0700099867|    5.0|Loved playing Dir...|A step up from Di...|\n",
      "|0700099867|    1.0|I can't tell you ...|Crash 3 is correc...|\n",
      "|0700099867|    4.0|I initially gave ...|A great game ruin...|\n",
      "|0700099867|    2.0|I still haven't f...|Couldn't get this...|\n",
      "+----------+-------+--------------------+--------------------+\n",
      "only showing top 10 rows\n",
      "\n"
     ]
    }
   ],
   "source": [
    "data.show(10)"
   ]
  },
  {
   "cell_type": "code",
   "execution_count": 9,
   "metadata": {},
   "outputs": [
    {
     "name": "stdout",
     "output_type": "stream",
     "text": [
      "+----------+-------+--------------------+--------------------+\n",
      "|      asin|overall|          reviewText|             summary|\n",
      "+----------+-------+--------------------+--------------------+\n",
      "|0700099867|    1.0|installing the ga...|pay to unlock con...|\n",
      "|0700099867|    4.0|if you like rally...|     good rally game|\n",
      "|0700099867|    1.0|1st shipment rece...|           wrong key|\n",
      "|0700099867|    3.0|i got this versio...|awesome game, if ...|\n",
      "|0700099867|    4.0|i had dirt 2 on x...|              dirt 3|\n",
      "+----------+-------+--------------------+--------------------+\n",
      "only showing top 5 rows\n",
      "\n"
     ]
    }
   ],
   "source": [
    "### make review text become lowercase\n",
    "from pyspark.sql import functions as F\n",
    "for col in data.columns:\n",
    "    data = data.withColumn(col, F.lower(F.col(col)))\n",
    "data.show(5)"
   ]
  },
  {
   "cell_type": "code",
   "execution_count": 16,
   "metadata": {},
   "outputs": [],
   "source": [
    "data=data.toPandas()"
   ]
  },
  {
   "cell_type": "code",
   "execution_count": 18,
   "metadata": {},
   "outputs": [
    {
     "data": {
      "text/html": [
       "<div>\n",
       "<style scoped>\n",
       "    .dataframe tbody tr th:only-of-type {\n",
       "        vertical-align: middle;\n",
       "    }\n",
       "\n",
       "    .dataframe tbody tr th {\n",
       "        vertical-align: top;\n",
       "    }\n",
       "\n",
       "    .dataframe thead th {\n",
       "        text-align: right;\n",
       "    }\n",
       "</style>\n",
       "<table border=\"1\" class=\"dataframe\">\n",
       "  <thead>\n",
       "    <tr style=\"text-align: right;\">\n",
       "      <th></th>\n",
       "      <th>asin</th>\n",
       "      <th>overall</th>\n",
       "      <th>reviewText</th>\n",
       "      <th>summary</th>\n",
       "    </tr>\n",
       "  </thead>\n",
       "  <tbody>\n",
       "    <tr>\n",
       "      <th>0</th>\n",
       "      <td>0700099867</td>\n",
       "      <td>1.0</td>\n",
       "      <td>installing the game was a struggle (because of...</td>\n",
       "      <td>pay to unlock content? i don't think so.</td>\n",
       "    </tr>\n",
       "    <tr>\n",
       "      <th>1</th>\n",
       "      <td>0700099867</td>\n",
       "      <td>4.0</td>\n",
       "      <td>if you like rally cars get this game you will ...</td>\n",
       "      <td>good rally game</td>\n",
       "    </tr>\n",
       "    <tr>\n",
       "      <th>2</th>\n",
       "      <td>0700099867</td>\n",
       "      <td>1.0</td>\n",
       "      <td>1st shipment received a book instead of the ga...</td>\n",
       "      <td>wrong key</td>\n",
       "    </tr>\n",
       "    <tr>\n",
       "      <th>3</th>\n",
       "      <td>0700099867</td>\n",
       "      <td>3.0</td>\n",
       "      <td>i got this version instead of the ps3 version,...</td>\n",
       "      <td>awesome game, if it did not crash frequently !!</td>\n",
       "    </tr>\n",
       "    <tr>\n",
       "      <th>4</th>\n",
       "      <td>0700099867</td>\n",
       "      <td>4.0</td>\n",
       "      <td>i had dirt 2 on xbox 360 and it was an okay ga...</td>\n",
       "      <td>dirt 3</td>\n",
       "    </tr>\n",
       "  </tbody>\n",
       "</table>\n",
       "</div>"
      ],
      "text/plain": [
       "         asin overall                                         reviewText  \\\n",
       "0  0700099867     1.0  installing the game was a struggle (because of...   \n",
       "1  0700099867     4.0  if you like rally cars get this game you will ...   \n",
       "2  0700099867     1.0  1st shipment received a book instead of the ga...   \n",
       "3  0700099867     3.0  i got this version instead of the ps3 version,...   \n",
       "4  0700099867     4.0  i had dirt 2 on xbox 360 and it was an okay ga...   \n",
       "\n",
       "                                           summary  \n",
       "0         pay to unlock content? i don't think so.  \n",
       "1                                  good rally game  \n",
       "2                                        wrong key  \n",
       "3  awesome game, if it did not crash frequently !!  \n",
       "4                                           dirt 3  "
      ]
     },
     "execution_count": 18,
     "metadata": {},
     "output_type": "execute_result"
    }
   ],
   "source": [
    "data.head()"
   ]
  },
  {
   "cell_type": "code",
   "execution_count": 33,
   "metadata": {},
   "outputs": [],
   "source": [
    "lst=[]\n",
    "for line in data:\n",
    "    lst.append(line)\n",
    "    "
   ]
  },
  {
   "cell_type": "code",
   "execution_count": null,
   "metadata": {},
   "outputs": [],
   "source": [
    "asin_lst = list(data['asin'])\n",
    "overall_lst = list(data['overall'])\n",
    "review_lst = list(data['reviewText'])\n",
    "summary_lst = list(data['summary'])"
   ]
  },
  {
   "cell_type": "code",
   "execution_count": 39,
   "metadata": {},
   "outputs": [
    {
     "name": "stderr",
     "output_type": "stream",
     "text": [
      "[nltk_data] Downloading package words to /home/hadoop/nltk_data...\n",
      "[nltk_data]   Unzipping corpora/words.zip.\n"
     ]
    }
   ],
   "source": [
    "import nltk\n",
    "nltk.download('words')\n",
    "import nltk\n",
    "import re\n",
    "from nltk.corpus import stopwords\n",
    "from nltk.util import ngrams\n",
    "import pandas as pd\n",
    "import nltk"
   ]
  },
  {
   "cell_type": "code",
   "execution_count": 49,
   "metadata": {},
   "outputs": [
    {
     "name": "stderr",
     "output_type": "stream",
     "text": [
      "[nltk_data] Downloading package stopwords to /home/hadoop/nltk_data...\n",
      "[nltk_data]   Package stopwords is already up-to-date!\n",
      "[nltk_data] Downloading package words to /home/hadoop/nltk_data...\n",
      "[nltk_data]   Package words is already up-to-date!\n",
      "[nltk_data] Downloading package punkt to /home/hadoop/nltk_data...\n",
      "[nltk_data]   Unzipping tokenizers/punkt.zip.\n"
     ]
    },
    {
     "data": {
      "text/plain": [
       "True"
      ]
     },
     "execution_count": 49,
     "metadata": {},
     "output_type": "execute_result"
    }
   ],
   "source": [
    "import nltk\n",
    "nltk.download('stopwords')\n",
    "nltk.download('words')\n",
    "nltk.download('punkt')"
   ]
  },
  {
   "cell_type": "code",
   "execution_count": 41,
   "metadata": {},
   "outputs": [],
   "source": [
    "# get the list of stopwords from nltk\n",
    "from nltk.corpus import stopwords\n",
    "eng_stopwords = stopwords.words('english')\n",
    "eng_stopwords.append('xxxx')"
   ]
  },
  {
   "cell_type": "code",
   "execution_count": 45,
   "metadata": {},
   "outputs": [],
   "source": [
    "clean_texts = []"
   ]
  },
  {
   "cell_type": "code",
   "execution_count": 46,
   "metadata": {},
   "outputs": [],
   "source": [
    "words = set(nltk.corpus.words.words())"
   ]
  },
  {
   "cell_type": "code",
   "execution_count": 47,
   "metadata": {},
   "outputs": [],
   "source": [
    "stop_words = set(stopwords.words('english'))"
   ]
  },
  {
   "cell_type": "code",
   "execution_count": 50,
   "metadata": {},
   "outputs": [],
   "source": [
    "for text in data[\"reviewText\"]:\n",
    "    text = \" \".join(re.sub(\"([^0-9A-Za-z \\t])|(\\w+:\\/\\/\\S+)\", \"\", text).split()) \n",
    "    text = text.replace('#', ' ').replace('@', ' ') \n",
    "\n",
    "    text = \" \".join(w.lower() for w in nltk.wordpunct_tokenize(text) if w.lower() in words) # remove words not in corpus\n",
    "    text = \" \".join(w.lower() for w in nltk.word_tokenize(text) if not w.lower() in stop_words) # remove stop words\n",
    "    \n",
    "    clean_texts.append(text)"
   ]
  },
  {
   "cell_type": "code",
   "execution_count": 52,
   "metadata": {},
   "outputs": [
    {
     "data": {
      "text/plain": [
       "'like rally get game since huge rally fan party music even game best works'"
      ]
     },
     "execution_count": 52,
     "metadata": {},
     "output_type": "execute_result"
    }
   ],
   "source": [
    "clean_texts[1]"
   ]
  },
  {
   "cell_type": "code",
   "execution_count": 54,
   "metadata": {},
   "outputs": [],
   "source": [
    "data['reviewText']=clean_texts"
   ]
  },
  {
   "cell_type": "code",
   "execution_count": 55,
   "metadata": {},
   "outputs": [
    {
     "data": {
      "text/html": [
       "<div>\n",
       "<style scoped>\n",
       "    .dataframe tbody tr th:only-of-type {\n",
       "        vertical-align: middle;\n",
       "    }\n",
       "\n",
       "    .dataframe tbody tr th {\n",
       "        vertical-align: top;\n",
       "    }\n",
       "\n",
       "    .dataframe thead th {\n",
       "        text-align: right;\n",
       "    }\n",
       "</style>\n",
       "<table border=\"1\" class=\"dataframe\">\n",
       "  <thead>\n",
       "    <tr style=\"text-align: right;\">\n",
       "      <th></th>\n",
       "      <th>asin</th>\n",
       "      <th>overall</th>\n",
       "      <th>reviewText</th>\n",
       "      <th>summary</th>\n",
       "    </tr>\n",
       "  </thead>\n",
       "  <tbody>\n",
       "    <tr>\n",
       "      <th>0</th>\n",
       "      <td>0700099867</td>\n",
       "      <td>1.0</td>\n",
       "      <td>game struggle live championship unlocked game ...</td>\n",
       "      <td>pay to unlock content? i don't think so.</td>\n",
       "    </tr>\n",
       "    <tr>\n",
       "      <th>1</th>\n",
       "      <td>0700099867</td>\n",
       "      <td>4.0</td>\n",
       "      <td>like rally get game since huge rally fan party...</td>\n",
       "      <td>good rally game</td>\n",
       "    </tr>\n",
       "    <tr>\n",
       "      <th>2</th>\n",
       "      <td>0700099867</td>\n",
       "      <td>1.0</td>\n",
       "      <td>shipment received book instead shipment got fa...</td>\n",
       "      <td>wrong key</td>\n",
       "    </tr>\n",
       "    <tr>\n",
       "      <th>3</th>\n",
       "      <td>0700099867</td>\n",
       "      <td>3.0</td>\n",
       "      <td>got version instead version turned mistake con...</td>\n",
       "      <td>awesome game, if it did not crash frequently !!</td>\n",
       "    </tr>\n",
       "    <tr>\n",
       "      <th>4</th>\n",
       "      <td>0700099867</td>\n",
       "      <td>4.0</td>\n",
       "      <td>dirt game bought new build collection game fun...</td>\n",
       "      <td>dirt 3</td>\n",
       "    </tr>\n",
       "    <tr>\n",
       "      <th>5</th>\n",
       "      <td>0700099867</td>\n",
       "      <td>4.0</td>\n",
       "      <td>overall well done racing game good graphics ti...</td>\n",
       "      <td>good racing game, terrible windows live requir...</td>\n",
       "    </tr>\n",
       "    <tr>\n",
       "      <th>6</th>\n",
       "      <td>0700099867</td>\n",
       "      <td>5.0</td>\n",
       "      <td>dirt thought graphics good dirt addition graph...</td>\n",
       "      <td>a step up from dirt 2 and that is terrific!</td>\n",
       "    </tr>\n",
       "    <tr>\n",
       "      <th>7</th>\n",
       "      <td>0700099867</td>\n",
       "      <td>1.0</td>\n",
       "      <td>cant tell piece dog game like everything else ...</td>\n",
       "      <td>crash 3 is correct name aka microsoft</td>\n",
       "    </tr>\n",
       "    <tr>\n",
       "      <th>8</th>\n",
       "      <td>0700099867</td>\n",
       "      <td>4.0</td>\n",
       "      <td>initially gave one star constantly recently wh...</td>\n",
       "      <td>a great game ruined by microsoft's account man...</td>\n",
       "    </tr>\n",
       "    <tr>\n",
       "      <th>9</th>\n",
       "      <td>0700099867</td>\n",
       "      <td>2.0</td>\n",
       "      <td>still havent figured one everything instructed...</td>\n",
       "      <td>couldn't get this one to work</td>\n",
       "    </tr>\n",
       "  </tbody>\n",
       "</table>\n",
       "</div>"
      ],
      "text/plain": [
       "         asin overall                                         reviewText  \\\n",
       "0  0700099867     1.0  game struggle live championship unlocked game ...   \n",
       "1  0700099867     4.0  like rally get game since huge rally fan party...   \n",
       "2  0700099867     1.0  shipment received book instead shipment got fa...   \n",
       "3  0700099867     3.0  got version instead version turned mistake con...   \n",
       "4  0700099867     4.0  dirt game bought new build collection game fun...   \n",
       "5  0700099867     4.0  overall well done racing game good graphics ti...   \n",
       "6  0700099867     5.0  dirt thought graphics good dirt addition graph...   \n",
       "7  0700099867     1.0  cant tell piece dog game like everything else ...   \n",
       "8  0700099867     4.0  initially gave one star constantly recently wh...   \n",
       "9  0700099867     2.0  still havent figured one everything instructed...   \n",
       "\n",
       "                                             summary  \n",
       "0           pay to unlock content? i don't think so.  \n",
       "1                                    good rally game  \n",
       "2                                          wrong key  \n",
       "3    awesome game, if it did not crash frequently !!  \n",
       "4                                             dirt 3  \n",
       "5  good racing game, terrible windows live requir...  \n",
       "6        a step up from dirt 2 and that is terrific!  \n",
       "7              crash 3 is correct name aka microsoft  \n",
       "8  a great game ruined by microsoft's account man...  \n",
       "9                      couldn't get this one to work  "
      ]
     },
     "execution_count": 55,
     "metadata": {},
     "output_type": "execute_result"
    }
   ],
   "source": [
    "data.head(10)"
   ]
  },
  {
   "cell_type": "code",
   "execution_count": null,
   "metadata": {},
   "outputs": [],
   "source": []
  },
  {
   "cell_type": "code",
   "execution_count": null,
   "metadata": {},
   "outputs": [],
   "source": []
  },
  {
   "cell_type": "code",
   "execution_count": null,
   "metadata": {},
   "outputs": [],
   "source": []
  },
  {
   "cell_type": "code",
   "execution_count": null,
   "metadata": {},
   "outputs": [],
   "source": []
  },
  {
   "cell_type": "code",
   "execution_count": null,
   "metadata": {},
   "outputs": [],
   "source": []
  },
  {
   "cell_type": "code",
   "execution_count": null,
   "metadata": {},
   "outputs": [],
   "source": []
  },
  {
   "cell_type": "code",
   "execution_count": null,
   "metadata": {},
   "outputs": [],
   "source": []
  },
  {
   "cell_type": "code",
   "execution_count": null,
   "metadata": {},
   "outputs": [],
   "source": []
  },
  {
   "cell_type": "code",
   "execution_count": null,
   "metadata": {},
   "outputs": [],
   "source": []
  },
  {
   "cell_type": "code",
   "execution_count": null,
   "metadata": {},
   "outputs": [],
   "source": []
  },
  {
   "cell_type": "code",
   "execution_count": null,
   "metadata": {},
   "outputs": [],
   "source": []
  },
  {
   "cell_type": "code",
   "execution_count": null,
   "metadata": {},
   "outputs": [],
   "source": []
  },
  {
   "cell_type": "code",
   "execution_count": null,
   "metadata": {},
   "outputs": [],
   "source": []
  },
  {
   "cell_type": "code",
   "execution_count": null,
   "metadata": {},
   "outputs": [],
   "source": []
  },
  {
   "cell_type": "code",
   "execution_count": 19,
   "metadata": {},
   "outputs": [],
   "source": [
    "# remove puctuation\n",
    "import string\n",
    "list_punct=list(string.punctuation)"
   ]
  },
  {
   "cell_type": "code",
   "execution_count": 24,
   "metadata": {},
   "outputs": [],
   "source": [
    "def texts_clean(dataset): \n",
    "    lst = []\n",
    "    for line in dataset:\n",
    "        lst.append(line)\n",
    "    \n",
    "    asin_lst = []\n",
    "    overall_lst = []\n",
    "    review_lst = []\n",
    "    summary_lst = []\n",
    "\n",
    "    for i in range(len(lst)):\n",
    "        asin_lst.append(lst[i].split('\\t')[0])\n",
    "        overall_lst.append(lst[i].split('\\t')[1])\n",
    "        review_lst.append(lst[i].split('\\t')[2])\n",
    "        summary_lst.append(lst[i].split('\\t')[3])\n",
    "\n",
    "    data_lst = {'asin': asin_lst, \n",
    "                'overall': overall_lst,\n",
    "                'review': review_lst,\n",
    "                'summary': summary_lst}\n",
    "    \n",
    "    df_lst = pd.DataFrame(data_lst)\n",
    "   ### Clean the revirews by removing punctuations, numbers, URL, stopwords\n",
    "    clean_texts = []\n",
    "    words = set(nltk.corpus.words.words())\n",
    "    stop_words = set(stopwords.words('english'))\n",
    "\n",
    "    for text in df_lst[\"review\"]:\n",
    "    \n",
    "        text = \" \".join(re.sub(\"([^0-9A-Za-z \\t])|(\\w+:\\/\\/\\S+)\", \"\", text).split()) \n",
    "        text = text.replace('#', ' ').replace('@', ' ') \n",
    "\n",
    "        text = \" \".join(w.lower() for w in nltk.wordpunct_tokenize(text) if w.lower() in words) # remove words not in corpus\n",
    "        text = \" \".join(w.lower() for w in nltk.word_tokenize(text) if not w.lower() in stop_words) # remove stop words\n",
    "    \n",
    "        clean_texts.append(text)\n",
    "    \n",
    "    df_lst[\"clean_texts\"] = clean_texts\n",
    "    df_lst = df_lst.drop(columns=\"reviews\")\n",
    "    return df_lst\n",
    "\n",
    "\n"
   ]
  },
  {
   "cell_type": "code",
   "execution_count": 25,
   "metadata": {},
   "outputs": [
    {
     "ename": "IndexError",
     "evalue": "list index out of range",
     "output_type": "error",
     "traceback": [
      "\u001b[0;31m---------------------------------------------------------------------------\u001b[0m",
      "\u001b[0;31mIndexError\u001b[0m                                Traceback (most recent call last)",
      "\u001b[0;32m<ipython-input-25-b46c61079212>\u001b[0m in \u001b[0;36m<module>\u001b[0;34m\u001b[0m\n\u001b[0;32m----> 1\u001b[0;31m \u001b[0mdf_clean\u001b[0m\u001b[0;34m=\u001b[0m\u001b[0mtexts_clean\u001b[0m\u001b[0;34m(\u001b[0m\u001b[0mdata\u001b[0m\u001b[0;34m)\u001b[0m\u001b[0;34m\u001b[0m\u001b[0;34m\u001b[0m\u001b[0m\n\u001b[0m",
      "\u001b[0;32m<ipython-input-24-bcebb33bf7f8>\u001b[0m in \u001b[0;36mtexts_clean\u001b[0;34m(dataset)\u001b[0m\n\u001b[1;32m     11\u001b[0m     \u001b[0;32mfor\u001b[0m \u001b[0mi\u001b[0m \u001b[0;32min\u001b[0m \u001b[0mrange\u001b[0m\u001b[0;34m(\u001b[0m\u001b[0mlen\u001b[0m\u001b[0;34m(\u001b[0m\u001b[0mlst\u001b[0m\u001b[0;34m)\u001b[0m\u001b[0;34m)\u001b[0m\u001b[0;34m:\u001b[0m\u001b[0;34m\u001b[0m\u001b[0;34m\u001b[0m\u001b[0m\n\u001b[1;32m     12\u001b[0m         \u001b[0masin_lst\u001b[0m\u001b[0;34m.\u001b[0m\u001b[0mappend\u001b[0m\u001b[0;34m(\u001b[0m\u001b[0mlst\u001b[0m\u001b[0;34m[\u001b[0m\u001b[0mi\u001b[0m\u001b[0;34m]\u001b[0m\u001b[0;34m.\u001b[0m\u001b[0msplit\u001b[0m\u001b[0;34m(\u001b[0m\u001b[0;34m'\\t'\u001b[0m\u001b[0;34m)\u001b[0m\u001b[0;34m[\u001b[0m\u001b[0;36m0\u001b[0m\u001b[0;34m]\u001b[0m\u001b[0;34m)\u001b[0m\u001b[0;34m\u001b[0m\u001b[0;34m\u001b[0m\u001b[0m\n\u001b[0;32m---> 13\u001b[0;31m         \u001b[0moverall_lst\u001b[0m\u001b[0;34m.\u001b[0m\u001b[0mappend\u001b[0m\u001b[0;34m(\u001b[0m\u001b[0mlst\u001b[0m\u001b[0;34m[\u001b[0m\u001b[0mi\u001b[0m\u001b[0;34m]\u001b[0m\u001b[0;34m.\u001b[0m\u001b[0msplit\u001b[0m\u001b[0;34m(\u001b[0m\u001b[0;34m'\\t'\u001b[0m\u001b[0;34m)\u001b[0m\u001b[0;34m[\u001b[0m\u001b[0;36m1\u001b[0m\u001b[0;34m]\u001b[0m\u001b[0;34m)\u001b[0m\u001b[0;34m\u001b[0m\u001b[0;34m\u001b[0m\u001b[0m\n\u001b[0m\u001b[1;32m     14\u001b[0m         \u001b[0mreview_lst\u001b[0m\u001b[0;34m.\u001b[0m\u001b[0mappend\u001b[0m\u001b[0;34m(\u001b[0m\u001b[0mlst\u001b[0m\u001b[0;34m[\u001b[0m\u001b[0mi\u001b[0m\u001b[0;34m]\u001b[0m\u001b[0;34m.\u001b[0m\u001b[0msplit\u001b[0m\u001b[0;34m(\u001b[0m\u001b[0;34m'\\t'\u001b[0m\u001b[0;34m)\u001b[0m\u001b[0;34m[\u001b[0m\u001b[0;36m2\u001b[0m\u001b[0;34m]\u001b[0m\u001b[0;34m)\u001b[0m\u001b[0;34m\u001b[0m\u001b[0;34m\u001b[0m\u001b[0m\n\u001b[1;32m     15\u001b[0m         \u001b[0msummary_lst\u001b[0m\u001b[0;34m.\u001b[0m\u001b[0mappend\u001b[0m\u001b[0;34m(\u001b[0m\u001b[0mlst\u001b[0m\u001b[0;34m[\u001b[0m\u001b[0mi\u001b[0m\u001b[0;34m]\u001b[0m\u001b[0;34m.\u001b[0m\u001b[0msplit\u001b[0m\u001b[0;34m(\u001b[0m\u001b[0;34m'\\t'\u001b[0m\u001b[0;34m)\u001b[0m\u001b[0;34m[\u001b[0m\u001b[0;36m3\u001b[0m\u001b[0;34m]\u001b[0m\u001b[0;34m)\u001b[0m\u001b[0;34m\u001b[0m\u001b[0;34m\u001b[0m\u001b[0m\n",
      "\u001b[0;31mIndexError\u001b[0m: list index out of range"
     ]
    }
   ],
   "source": [
    "df_clean=texts_clean(data)"
   ]
  },
  {
   "cell_type": "code",
   "execution_count": null,
   "metadata": {},
   "outputs": [],
   "source": []
  }
 ],
 "metadata": {
  "kernelspec": {
   "display_name": "Python 3",
   "language": "python",
   "name": "python3"
  },
  "language_info": {
   "codemirror_mode": {
    "name": "ipython",
    "version": 3
   },
   "file_extension": ".py",
   "mimetype": "text/x-python",
   "name": "python",
   "nbconvert_exporter": "python",
   "pygments_lexer": "ipython3",
   "version": "3.7.6"
  }
 },
 "nbformat": 4,
 "nbformat_minor": 4
}
