{
 "cells": [
  {
   "cell_type": "markdown",
   "metadata": {},
   "source": [
    "# Logistic Regression with Count Vector Features \n",
    "### (5-category-label)"
   ]
  },
  {
   "cell_type": "code",
   "execution_count": 1,
   "metadata": {},
   "outputs": [],
   "source": [
    "import findspark\n",
    "findspark.init()\n",
    "\n",
    "from pyspark.sql import SparkSession\n",
    "spark = SparkSession.builder.appName(\"spark-nlp\") \\\n",
    "    .config(\"spark.jars.packages\", \"com.johnsnowlabs.nlp:spark-nlp_2.11:2.4.5\") \\\n",
    "    .getOrCreate()"
   ]
  },
  {
   "cell_type": "code",
   "execution_count": 2,
   "metadata": {},
   "outputs": [
    {
     "data": {
      "text/html": [
       "\n",
       "            <div>\n",
       "                <p><b>SparkSession - in-memory</b></p>\n",
       "                \n",
       "        <div>\n",
       "            <p><b>SparkContext</b></p>\n",
       "\n",
       "            <p><a href=\"http://ip-172-31-19-168.ec2.internal:4040\">Spark UI</a></p>\n",
       "\n",
       "            <dl>\n",
       "              <dt>Version</dt>\n",
       "                <dd><code>v2.4.4</code></dd>\n",
       "              <dt>Master</dt>\n",
       "                <dd><code>yarn</code></dd>\n",
       "              <dt>AppName</dt>\n",
       "                <dd><code>spark-nlp</code></dd>\n",
       "            </dl>\n",
       "        </div>\n",
       "        \n",
       "            </div>\n",
       "        "
      ],
      "text/plain": [
       "<pyspark.sql.session.SparkSession at 0x7fa7589b2c10>"
      ]
     },
     "execution_count": 2,
     "metadata": {},
     "output_type": "execute_result"
    }
   ],
   "source": [
    "spark"
   ]
  },
  {
   "cell_type": "code",
   "execution_count": 3,
   "metadata": {},
   "outputs": [
    {
     "data": {
      "text/html": [
       "\n",
       "        <div>\n",
       "            <p><b>SparkContext</b></p>\n",
       "\n",
       "            <p><a href=\"http://ip-172-31-19-168.ec2.internal:4040\">Spark UI</a></p>\n",
       "\n",
       "            <dl>\n",
       "              <dt>Version</dt>\n",
       "                <dd><code>v2.4.4</code></dd>\n",
       "              <dt>Master</dt>\n",
       "                <dd><code>yarn</code></dd>\n",
       "              <dt>AppName</dt>\n",
       "                <dd><code>spark-nlp</code></dd>\n",
       "            </dl>\n",
       "        </div>\n",
       "        "
      ],
      "text/plain": [
       "<SparkContext master=yarn appName=spark-nlp>"
      ]
     },
     "execution_count": 3,
     "metadata": {},
     "output_type": "execute_result"
    }
   ],
   "source": [
    "sc = spark.sparkContext \n",
    "sc"
   ]
  },
  {
   "cell_type": "code",
   "execution_count": 4,
   "metadata": {},
   "outputs": [],
   "source": [
    "data = spark.read.json(\"s3://qianyielva/amazon_game_data\")"
   ]
  },
  {
   "cell_type": "code",
   "execution_count": 5,
   "metadata": {},
   "outputs": [
    {
     "name": "stdout",
     "output_type": "stream",
     "text": [
      "+----------+-------+-------+--------------------+-----------+--------------+--------------------+--------------------+--------------+\n",
      "|      asin|helpful|overall|          reviewText| reviewTime|    reviewerID|        reviewerName|             summary|unixReviewTime|\n",
      "+----------+-------+-------+--------------------+-----------+--------------+--------------------+--------------------+--------------+\n",
      "|B00002STAU| [0, 0]|    5.0|this is a old cla...|07 30, 2012|A1G0VFQ9198IUF|                  al|           a classic|    1343606400|\n",
      "|B00002STAU| [2, 2]|    4.0|This game is more...|02 21, 2001| AXUOVXIGF9CKC|      \"bigdcaldavis\"|  good fighting game|     982713600|\n",
      "|B00002STAU| [0, 0]|    5.0|If you love WWF n...|11 14, 2011|A15JTJXQXO22JJ|           Chad Frey|WWF Wrestlemania ...|    1321228800|\n",
      "|B00002STAU| [1, 1]|    4.0|I had WWF Wrestle...|08 10, 2008| ANRNG7OAARR70|D. Hensley \"Horro...|wrestling game wi...|    1218326400|\n",
      "|B00002STAU| [0, 0]|    4.0|I have to admit I...|07 24, 2009|A2ZFYB6WY3RG93|        Raqel Redfox|           A Classic|    1248393600|\n",
      "|B00002STAU| [1, 1]|    5.0|This game was ama...|02 27, 2013|A3J8ABVGK7ZL6H|         SideshowBob|The Best Wrestlin...|    1361923200|\n",
      "|B00002STAU| [0, 0]|    4.0|This right here i...| 04 1, 2014|A3DE438TF1A958|        thomas henry|wrestling at it's...|    1396310400|\n",
      "|B00002SVP7| [0, 0]|    3.0|The Rampage Editi...|04 16, 2013|A2CJJSS6OD4K2G|     anita reichmann|A few new levels ...|    1366070400|\n",
      "|B00002SVP7|[7, 13]|    2.0|Remember the mome...| 05 3, 2006|A2ICW5OUWX2A2V|                 Ian|                WTF?|    1146614400|\n",
      "|B00002SVP7| [2, 7]|    2.0|Back in 1993 Sega...|06 20, 2004|A319SKSB556033|Inspector Gadget ...|           Bo-oring!|    1087689600|\n",
      "+----------+-------+-------+--------------------+-----------+--------------+--------------------+--------------------+--------------+\n",
      "only showing top 10 rows\n",
      "\n"
     ]
    }
   ],
   "source": [
    "data.show(10)"
   ]
  },
  {
   "cell_type": "code",
   "execution_count": 6,
   "metadata": {},
   "outputs": [
    {
     "name": "stdout",
     "output_type": "stream",
     "text": [
      "+----------+-------+--------------------+--------------------+\n",
      "|      asin|overall|          reviewText|             summary|\n",
      "+----------+-------+--------------------+--------------------+\n",
      "|B00002STAU|    5.0|this is a old cla...|           a classic|\n",
      "|B00002STAU|    4.0|This game is more...|  good fighting game|\n",
      "|B00002STAU|    5.0|If you love WWF n...|WWF Wrestlemania ...|\n",
      "|B00002STAU|    4.0|I had WWF Wrestle...|wrestling game wi...|\n",
      "|B00002STAU|    4.0|I have to admit I...|           A Classic|\n",
      "|B00002STAU|    5.0|This game was ama...|The Best Wrestlin...|\n",
      "|B00002STAU|    4.0|This right here i...|wrestling at it's...|\n",
      "|B00002SVP7|    3.0|The Rampage Editi...|A few new levels ...|\n",
      "|B00002SVP7|    2.0|Remember the mome...|                WTF?|\n",
      "|B00002SVP7|    2.0|Back in 1993 Sega...|           Bo-oring!|\n",
      "+----------+-------+--------------------+--------------------+\n",
      "only showing top 10 rows\n",
      "\n"
     ]
    }
   ],
   "source": [
    "data = data.drop(\"helpful\").drop(\"reviewerID\").drop(\"unixReviewTime\").drop(\"reviewTime\").drop(\"reviewerName\")\n",
    "data.show(10)"
   ]
  },
  {
   "cell_type": "code",
   "execution_count": 7,
   "metadata": {},
   "outputs": [],
   "source": [
    "from pyspark.sql.types import IntegerType\n",
    "data = data.withColumn(\"overall\", data[\"overall\"].cast(IntegerType()))"
   ]
  },
  {
   "cell_type": "code",
   "execution_count": 8,
   "metadata": {},
   "outputs": [
    {
     "name": "stdout",
     "output_type": "stream",
     "text": [
      "+----------+-------+--------------------+--------------------+\n",
      "|      asin|overall|          reviewText|             summary|\n",
      "+----------+-------+--------------------+--------------------+\n",
      "|B00002STAU|      5|this is a old cla...|           a classic|\n",
      "|B00002STAU|      4|This game is more...|  good fighting game|\n",
      "|B00002STAU|      5|If you love WWF n...|WWF Wrestlemania ...|\n",
      "|B00002STAU|      4|I had WWF Wrestle...|wrestling game wi...|\n",
      "|B00002STAU|      4|I have to admit I...|           A Classic|\n",
      "|B00002STAU|      5|This game was ama...|The Best Wrestlin...|\n",
      "|B00002STAU|      4|This right here i...|wrestling at it's...|\n",
      "|B00002SVP7|      3|The Rampage Editi...|A few new levels ...|\n",
      "|B00002SVP7|      2|Remember the mome...|                WTF?|\n",
      "|B00002SVP7|      2|Back in 1993 Sega...|           Bo-oring!|\n",
      "+----------+-------+--------------------+--------------------+\n",
      "only showing top 10 rows\n",
      "\n"
     ]
    }
   ],
   "source": [
    "data.show(10)"
   ]
  },
  {
   "cell_type": "code",
   "execution_count": 9,
   "metadata": {},
   "outputs": [
    {
     "data": {
      "text/plain": [
       "DataFrame[asin: string, overall: int, reviewText: string, summary: string]"
      ]
     },
     "execution_count": 9,
     "metadata": {},
     "output_type": "execute_result"
    }
   ],
   "source": [
    "data.cache()"
   ]
  },
  {
   "cell_type": "markdown",
   "metadata": {},
   "source": [
    "### EDA"
   ]
  },
  {
   "cell_type": "code",
   "execution_count": 10,
   "metadata": {},
   "outputs": [],
   "source": [
    "from pyspark.sql import SQLContext\n",
    "sqlContext = SQLContext(sc)"
   ]
  },
  {
   "cell_type": "markdown",
   "metadata": {},
   "source": [
    "#### Number of Rows"
   ]
  },
  {
   "cell_type": "code",
   "execution_count": 11,
   "metadata": {},
   "outputs": [
    {
     "name": "stdout",
     "output_type": "stream",
     "text": [
      "Total Number of Reviews in the Dataset: 1075312\n"
     ]
    }
   ],
   "source": [
    "# Size of the Review Tables (Row Count)\n",
    "print(\"Total Number of Reviews in the Dataset:\", data.count())"
   ]
  },
  {
   "cell_type": "markdown",
   "metadata": {},
   "source": [
    "#### Column Names"
   ]
  },
  {
   "cell_type": "code",
   "execution_count": 12,
   "metadata": {},
   "outputs": [
    {
     "name": "stdout",
     "output_type": "stream",
     "text": [
      "Dataset Schema (Column Names)\n"
     ]
    },
    {
     "data": {
      "text/plain": [
       "['asin', 'overall', 'reviewText', 'summary']"
      ]
     },
     "execution_count": 12,
     "metadata": {},
     "output_type": "execute_result"
    }
   ],
   "source": [
    "# Print Column Names\n",
    "print(\"Dataset Schema (Column Names)\")\n",
    "data.columns"
   ]
  },
  {
   "cell_type": "markdown",
   "metadata": {},
   "source": [
    "#### Plot the Number of Reviews by Score"
   ]
  },
  {
   "cell_type": "code",
   "execution_count": 13,
   "metadata": {},
   "outputs": [
    {
     "name": "stdout",
     "output_type": "stream",
     "text": [
      "+-----+------+\n",
      "|score|number|\n",
      "+-----+------+\n",
      "|    2| 59477|\n",
      "|    3| 97153|\n",
      "|    1|112789|\n",
      "|    4|210922|\n",
      "|    5|594971|\n",
      "+-----+------+\n",
      "\n"
     ]
    }
   ],
   "source": [
    "# Plot the Number of Reviews by Score\n",
    "data.createOrReplaceTempView(\"data\")\n",
    "count = spark.sql(\"SELECT overall as score, count(overall) as number FROM data GROUP BY overall ORDER BY number\")\n",
    "count.show()"
   ]
  },
  {
   "cell_type": "code",
   "execution_count": 14,
   "metadata": {},
   "outputs": [
    {
     "data": {
      "text/plain": [
       "<matplotlib.axes._subplots.AxesSubplot at 0x7fa734241190>"
      ]
     },
     "execution_count": 14,
     "metadata": {},
     "output_type": "execute_result"
    },
    {
     "data": {
      "image/png": "[encoded data removed]",
      "text/plain": [
       "<Figure size 432x288 with 1 Axes>"
      ]
     },
     "metadata": {
      "needs_background": "light"
     },
     "output_type": "display_data"
    }
   ],
   "source": [
    "count = count.toPandas()\n",
    "count.plot(kind='bar',x='score',y='number')"
   ]
  },
  {
   "cell_type": "markdown",
   "metadata": {},
   "source": [
    "#### Show First 10 Products with The Most Reviews"
   ]
  },
  {
   "cell_type": "code",
   "execution_count": 15,
   "metadata": {},
   "outputs": [
    {
     "name": "stdout",
     "output_type": "stream",
     "text": [
      "+----------+------+\n",
      "|   product|number|\n",
      "+----------+------+\n",
      "|B00DJFIMW6| 16221|\n",
      "|B00BGA9WK2|  7561|\n",
      "|B00FAX6XQC|  5713|\n",
      "|B009KS4XRO|  5489|\n",
      "|B002VBWIP6|  5190|\n",
      "|B0055SWM08|  4638|\n",
      "|B00CSR2J9I|  4510|\n",
      "|B0015AARJI|  4468|\n",
      "|B00178630A|  3522|\n",
      "|B000FKBCX4|  3290|\n",
      "+----------+------+\n",
      "\n"
     ]
    }
   ],
   "source": [
    "product_review_number = spark.sql(\"SELECT asin as product, count(reviewText) as number FROM data GROUP BY asin ORDER BY number DESC LIMIT 10\")\n",
    "product_review_number.show()"
   ]
  },
  {
   "cell_type": "markdown",
   "metadata": {},
   "source": [
    "### Clean Review Text"
   ]
  },
  {
   "cell_type": "code",
   "execution_count": 16,
   "metadata": {},
   "outputs": [
    {
     "name": "stderr",
     "output_type": "stream",
     "text": [
      "[nltk_data] Downloading package stopwords to /home/hadoop/nltk_data...\n",
      "[nltk_data]   Package stopwords is already up-to-date!\n",
      "[nltk_data] Downloading package words to /home/hadoop/nltk_data...\n",
      "[nltk_data]   Package words is already up-to-date!\n"
     ]
    },
    {
     "data": {
      "text/plain": [
       "True"
      ]
     },
     "execution_count": 16,
     "metadata": {},
     "output_type": "execute_result"
    }
   ],
   "source": [
    "import nltk\n",
    "nltk.download('stopwords')\n",
    "nltk.download('words')"
   ]
  },
  {
   "cell_type": "code",
   "execution_count": 17,
   "metadata": {},
   "outputs": [],
   "source": [
    "# get the list of stopwords from nltk\n",
    "from nltk.corpus import stopwords\n",
    "\n",
    "eng_stopwords = stopwords.words('english')\n",
    "eng_stopwords.append('xxxx')"
   ]
  },
  {
   "cell_type": "markdown",
   "metadata": {},
   "source": [
    "#### Set up SparkNLP pipeline"
   ]
  },
  {
   "cell_type": "code",
   "execution_count": 18,
   "metadata": {},
   "outputs": [],
   "source": [
    "from sparknlp.base import Finisher, DocumentAssembler\n",
    "from sparknlp.annotator import (Tokenizer, Normalizer, \n",
    "                                LemmatizerModel, StopWordsCleaner)\n",
    "from pyspark.ml import Pipeline"
   ]
  },
  {
   "cell_type": "code",
   "execution_count": 19,
   "metadata": {},
   "outputs": [
    {
     "name": "stdout",
     "output_type": "stream",
     "text": [
      "lemma_antbnc download started this may take some time.\n",
      "Approximate size to download 907.6 KB\n",
      "[OK!]\n"
     ]
    }
   ],
   "source": [
    "documentAssembler = DocumentAssembler() \\\n",
    "    .setInputCol('reviewText') \\\n",
    "    .setOutputCol('document')\n",
    "\n",
    "tokenizer = Tokenizer() \\\n",
    "    .setInputCols(['document']) \\\n",
    "    .setOutputCol('token')\n",
    "\n",
    "# note normalizer defaults to changing all words to lowercase.\n",
    "# Use .setLowercase(False) to maintain input case.\n",
    "normalizer = Normalizer() \\\n",
    "    .setInputCols(['token']) \\\n",
    "    .setOutputCol('normalized') \\\n",
    "    .setLowercase(True)\n",
    "\n",
    "# note that lemmatizer needs a dictionary. So I used the pre-trained\n",
    "# model (note that it defaults to english)\n",
    "lemmatizer = LemmatizerModel.pretrained() \\\n",
    "    .setInputCols(['normalized']) \\\n",
    "    .setOutputCol('lemma') \\\n",
    "\n",
    "stopwords_cleaner = StopWordsCleaner() \\\n",
    "    .setInputCols(['lemma']) \\\n",
    "    .setOutputCol('clean_lemma') \\\n",
    "    .setCaseSensitive(False) \\\n",
    "    .setStopWords(eng_stopwords)\n",
    "\n",
    "# finisher converts tokens to human-readable output\n",
    "finisher = Finisher() \\\n",
    "    .setInputCols(['clean_lemma']) \\\n",
    "    .setCleanAnnotations(False)"
   ]
  },
  {
   "cell_type": "code",
   "execution_count": 20,
   "metadata": {},
   "outputs": [],
   "source": [
    "pipeline = Pipeline() \\\n",
    "    .setStages([\n",
    "        documentAssembler,\n",
    "        tokenizer,\n",
    "        normalizer,\n",
    "        lemmatizer,\n",
    "        stopwords_cleaner,\n",
    "        finisher\n",
    "    ])"
   ]
  },
  {
   "cell_type": "code",
   "execution_count": 21,
   "metadata": {},
   "outputs": [
    {
     "name": "stdout",
     "output_type": "stream",
     "text": [
      "+--------------------+\n",
      "|          reviewText|\n",
      "+--------------------+\n",
      "|this is a old cla...|\n",
      "|This game is more...|\n",
      "|If you love WWF n...|\n",
      "|I had WWF Wrestle...|\n",
      "|I have to admit I...|\n",
      "|This game was ama...|\n",
      "|This right here i...|\n",
      "|The Rampage Editi...|\n",
      "|Remember the mome...|\n",
      "|Back in 1993 Sega...|\n",
      "+--------------------+\n",
      "only showing top 10 rows\n",
      "\n"
     ]
    }
   ],
   "source": [
    "data.createOrReplaceTempView(\"data\")\n",
    "df = spark.sql(\"SELECT reviewText FROM data\")\n",
    "df.show(10)"
   ]
  },
  {
   "cell_type": "code",
   "execution_count": 22,
   "metadata": {},
   "outputs": [
    {
     "name": "stdout",
     "output_type": "stream",
     "text": [
      "+--------------------+\n",
      "|finished_clean_lemma|\n",
      "+--------------------+\n",
      "|[old, classic, wr...|\n",
      "|[game, oneonone, ...|\n",
      "|[love, wwf, call,...|\n",
      "|[wwf, wrestlemani...|\n",
      "|[admit, hadnt, st...|\n",
      "|[game, amazing, b...|\n",
      "|[right, bit, arca...|\n",
      "|[rampage, edition...|\n",
      "|[remember, moment...|\n",
      "|[back, sega, rele...|\n",
      "+--------------------+\n",
      "only showing top 10 rows\n",
      "\n"
     ]
    }
   ],
   "source": [
    "equifax = pipeline.fit(df).transform(df)\n",
    "temp = equifax.select('finished_clean_lemma')\n",
    "temp.show(10)"
   ]
  },
  {
   "cell_type": "code",
   "execution_count": 23,
   "metadata": {},
   "outputs": [
    {
     "name": "stdout",
     "output_type": "stream",
     "text": [
      "+----------+-------+--------------------+--------------------+--------------------+\n",
      "|      asin|overall|          reviewText|             summary|finished_clean_lemma|\n",
      "+----------+-------+--------------------+--------------------+--------------------+\n",
      "|B00002STAU|      5|this is a old cla...|           a classic|[old, classic, wr...|\n",
      "|B00002STAU|      4|This game is more...|  good fighting game|[game, oneonone, ...|\n",
      "|B00002STAU|      5|If you love WWF n...|WWF Wrestlemania ...|[love, wwf, call,...|\n",
      "|B00002STAU|      4|I had WWF Wrestle...|wrestling game wi...|[wwf, wrestlemani...|\n",
      "|B00002STAU|      4|I have to admit I...|           A Classic|[admit, hadnt, st...|\n",
      "|B00002STAU|      5|This game was ama...|The Best Wrestlin...|[game, amazing, b...|\n",
      "|B00002STAU|      4|This right here i...|wrestling at it's...|[right, bit, arca...|\n",
      "|B00002SVP7|      3|The Rampage Editi...|A few new levels ...|[rampage, edition...|\n",
      "|B00002SVP7|      2|Remember the mome...|                WTF?|[remember, moment...|\n",
      "|B00002SVP7|      2|Back in 1993 Sega...|           Bo-oring!|[back, sega, rele...|\n",
      "+----------+-------+--------------------+--------------------+--------------------+\n",
      "only showing top 10 rows\n",
      "\n"
     ]
    }
   ],
   "source": [
    "from pyspark.sql.functions import monotonically_increasing_id, row_number\n",
    "from pyspark.sql.window import Window\n",
    "data=data.withColumn('row_index', row_number().over(Window.orderBy(monotonically_increasing_id())))\n",
    "temp=temp.withColumn('row_index', row_number().over(Window.orderBy(monotonically_increasing_id())))\n",
    "data = data.join(temp, on=[\"row_index\"]).drop(\"row_index\")\n",
    "data.show(10)"
   ]
  },
  {
   "cell_type": "code",
   "execution_count": 24,
   "metadata": {},
   "outputs": [
    {
     "data": {
      "text/plain": [
       "DataFrame[asin: string, overall: int, reviewText: string, summary: string, finished_clean_lemma: array<string>]"
      ]
     },
     "execution_count": 24,
     "metadata": {},
     "output_type": "execute_result"
    }
   ],
   "source": [
    "data.cache()"
   ]
  },
  {
   "cell_type": "markdown",
   "metadata": {},
   "source": [
    "### Split dataset into training set and test set"
   ]
  },
  {
   "cell_type": "code",
   "execution_count": 25,
   "metadata": {},
   "outputs": [
    {
     "name": "stdout",
     "output_type": "stream",
     "text": [
      "Number of training records: 860190\n",
      "Number of testing records : 215122\n"
     ]
    }
   ],
   "source": [
    "splitted_data = data.randomSplit([0.8, 0.2])\n",
    "train_data = splitted_data[0]\n",
    "test_data = splitted_data[1]\n",
    "\n",
    "print(\"Number of training records: \" + str(train_data.count()))\n",
    "print(\"Number of testing records : \" + str(test_data.count()))"
   ]
  },
  {
   "cell_type": "markdown",
   "metadata": {},
   "source": [
    "### Build Models"
   ]
  },
  {
   "cell_type": "markdown",
   "metadata": {},
   "source": [
    "#### Import Modeling Packages "
   ]
  },
  {
   "cell_type": "code",
   "execution_count": 38,
   "metadata": {},
   "outputs": [],
   "source": [
    "from pyspark.ml.feature import OneHotEncoder, StringIndexer, IndexToString, VectorAssembler, CountVectorizer\n",
    "from pyspark.ml.classification import LogisticRegression\n",
    "from pyspark.ml.evaluation import MulticlassClassificationEvaluator\n",
    "from pyspark.ml import Pipeline, Model"
   ]
  },
  {
   "cell_type": "markdown",
   "metadata": {},
   "source": [
    "#### Build LogisticRegression model(s) and train them using pipelines"
   ]
  },
  {
   "cell_type": "code",
   "execution_count": 73,
   "metadata": {},
   "outputs": [],
   "source": [
    "countVectors = CountVectorizer(inputCol=\"finished_clean_lemma\", outputCol=\"features\", vocabSize=10000, minDF=5)\n",
    "stringIndexer_label = StringIndexer(inputCol=\"overall\", outputCol=\"label\")"
   ]
  },
  {
   "cell_type": "code",
   "execution_count": 74,
   "metadata": {},
   "outputs": [],
   "source": [
    "logit = LogisticRegression(labelCol=\"label\", featuresCol=\"features\")"
   ]
  },
  {
   "cell_type": "code",
   "execution_count": 75,
   "metadata": {},
   "outputs": [],
   "source": [
    "labelConverter = IndexToString(inputCol=\"prediction\", \n",
    "                               outputCol=\"predictedLabel\", \n",
    "                               labels=stringIndexer_label.fit(train_data).labels)"
   ]
  },
  {
   "cell_type": "code",
   "execution_count": 76,
   "metadata": {},
   "outputs": [],
   "source": [
    "pipeline_logit = Pipeline(stages=[\n",
    "                               countVectors,\n",
    "                               stringIndexer_label,\n",
    "                               logit,\n",
    "                               labelConverter])"
   ]
  },
  {
   "cell_type": "markdown",
   "metadata": {},
   "source": [
    "#### Train the model using training set"
   ]
  },
  {
   "cell_type": "code",
   "execution_count": 77,
   "metadata": {},
   "outputs": [],
   "source": [
    "logit_model= pipeline_logit.fit(train_data)"
   ]
  },
  {
   "cell_type": "markdown",
   "metadata": {},
   "source": [
    "#### Run the predictions on test data using the trained model"
   ]
  },
  {
   "cell_type": "code",
   "execution_count": 78,
   "metadata": {},
   "outputs": [],
   "source": [
    "predictions = logit_model.transform(test_data)"
   ]
  },
  {
   "cell_type": "code",
   "execution_count": 79,
   "metadata": {},
   "outputs": [
    {
     "name": "stdout",
     "output_type": "stream",
     "text": [
      "root\n",
      " |-- asin: string (nullable = true)\n",
      " |-- overall: integer (nullable = true)\n",
      " |-- reviewText: string (nullable = true)\n",
      " |-- summary: string (nullable = true)\n",
      " |-- finished_clean_lemma: array (nullable = true)\n",
      " |    |-- element: string (containsNull = true)\n",
      " |-- features: vector (nullable = true)\n",
      " |-- label: double (nullable = false)\n",
      " |-- rawPrediction: vector (nullable = true)\n",
      " |-- probability: vector (nullable = true)\n",
      " |-- prediction: double (nullable = false)\n",
      " |-- predictedLabel: string (nullable = true)\n",
      "\n"
     ]
    }
   ],
   "source": [
    "predictions.printSchema()"
   ]
  },
  {
   "cell_type": "code",
   "execution_count": 80,
   "metadata": {},
   "outputs": [
    {
     "name": "stdout",
     "output_type": "stream",
     "text": [
      "Accuracy score is:  0.5966646543569462\n"
     ]
    }
   ],
   "source": [
    "evaluator = MulticlassClassificationEvaluator(predictionCol=\"prediction\")\n",
    "print(\"Accuracy score is: \", evaluator.evaluate(predictions))"
   ]
  },
  {
   "cell_type": "code",
   "execution_count": 19,
   "metadata": {},
   "outputs": [],
   "source": [
    "sc.stop()\n",
    "spark.stop()"
   ]
  },
  {
   "cell_type": "code",
   "execution_count": null,
   "metadata": {},
   "outputs": [],
   "source": []
  }
 ],
 "metadata": {
  "kernelspec": {
   "display_name": "Python 3",
   "language": "python",
   "name": "python3"
  },
  "language_info": {
   "codemirror_mode": {
    "name": "ipython",
    "version": 3
   },
   "file_extension": ".py",
   "mimetype": "text/x-python",
   "name": "python",
   "nbconvert_exporter": "python",
   "pygments_lexer": "ipython3",
   "version": "3.7.6"
  }
 },
 "nbformat": 4,
 "nbformat_minor": 4
}
