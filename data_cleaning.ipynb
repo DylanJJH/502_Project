{
 "cells": [
  {
   "cell_type": "markdown",
   "metadata": {},
   "source": [
    "## Data Cleaning"
   ]
  },
  {
   "cell_type": "code",
   "execution_count": 1,
   "metadata": {},
   "outputs": [
    {
     "data": {
      "text/html": [
       "\n",
       "        <div>\n",
       "            <p><b>SparkContext</b></p>\n",
       "\n",
       "            <p><a href=\"http://ip-172-31-20-52.ec2.internal:4040\">Spark UI</a></p>\n",
       "\n",
       "            <dl>\n",
       "              <dt>Version</dt>\n",
       "                <dd><code>v2.4.4</code></dd>\n",
       "              <dt>Master</dt>\n",
       "                <dd><code>yarn</code></dd>\n",
       "              <dt>AppName</dt>\n",
       "                <dd><code>SparkSession</code></dd>\n",
       "            </dl>\n",
       "        </div>\n",
       "        "
      ],
      "text/plain": [
       "<SparkContext master=yarn appName=SparkSession>"
      ]
     },
     "execution_count": 1,
     "metadata": {},
     "output_type": "execute_result"
    }
   ],
   "source": [
    "import findspark\n",
    "findspark.init()\n",
    "from pyspark import SparkContext\n",
    "from pyspark.sql import SparkSession\n",
    "spark = SparkSession.builder \\\n",
    "     .appName(\"SparkSession\") \\\n",
    "     .getOrCreate()\n",
    "\n",
    "sc = spark.sparkContext \n",
    "sc"
   ]
  },
  {
   "cell_type": "markdown",
   "metadata": {},
   "source": [
    "### Read Full Amazon Review Dataset"
   ]
  },
  {
   "cell_type": "code",
   "execution_count": 7,
   "metadata": {},
   "outputs": [],
   "source": [
    "amazon_data = spark.read.json(\"s3://qianyielva/product\")"
   ]
  },
  {
   "cell_type": "code",
   "execution_count": 8,
   "metadata": {},
   "outputs": [
    {
     "name": "stdout",
     "output_type": "stream",
     "text": [
      "root\n",
      " |-- asin: string (nullable = true)\n",
      " |-- helpful: array (nullable = true)\n",
      " |    |-- element: long (containsNull = true)\n",
      " |-- overall: double (nullable = true)\n",
      " |-- reviewText: string (nullable = true)\n",
      " |-- reviewTime: string (nullable = true)\n",
      " |-- reviewerID: string (nullable = true)\n",
      " |-- reviewerName: string (nullable = true)\n",
      " |-- summary: string (nullable = true)\n",
      " |-- unixReviewTime: long (nullable = true)\n",
      "\n"
     ]
    }
   ],
   "source": [
    "amazon_data.printSchema()"
   ]
  },
  {
   "cell_type": "code",
   "execution_count": 9,
   "metadata": {},
   "outputs": [
    {
     "name": "stdout",
     "output_type": "stream",
     "text": [
      "+----------+--------+-------+--------------------+-----------+--------------+--------------------+--------------------+--------------+\n",
      "|      asin| helpful|overall|          reviewText| reviewTime|    reviewerID|        reviewerName|             summary|unixReviewTime|\n",
      "+----------+--------+-------+--------------------+-----------+--------------+--------------------+--------------------+--------------+\n",
      "|0000000078|  [1, 1]|    5.0|Conversations wit...|08 11, 2004|A3AF8FFZAZYNE5|                null|          Impactful!|    1092182400|\n",
      "|0000000116|  [5, 5]|    4.0|Interesting Grish...|04 27, 2002| AH2L9G3DQHHAJ|               chris|  Show me the money!|    1019865600|\n",
      "|0000000116|  [0, 0]|    1.0|The thumbnail is ...|03 24, 2014|A2IIIDRK3PRRZY|              Helene|Listing is all sc...|    1395619200|\n",
      "|0000000868|[10, 10]|    4.0|I'll be honest. I...|09 11, 2002|A1TADCM7YWPQ8M|            Joel@AWS|Not a Bad Transla...|    1031702400|\n",
      "|0000013714|  [0, 0]|    4.0|It had all the so...|10 31, 2013| AWGH7V0BDOJKB|    Barbara Marshall| Not the large print|    1383177600|\n",
      "|0000013714|  [0, 0]|    5.0|We have many of t...|07 27, 2013|A3UTQPQPM4TQO0|       betty burnett|I was disappointe...|    1374883200|\n",
      "|0000013714|  [0, 0]|    5.0|I love this book....| 03 1, 2014| A8ZS0I5L5V31B|Ephraim O. Nwabuokei|    GREAT HYMN BOOK!|    1393632000|\n",
      "|0000013714|  [0, 0]|    4.0|We use this type ...| 12 3, 2013| ACNGUPJ3A3TM9|                 GCM|         Nice Hymnal|    1386028800|\n",
      "|0000013714|  [0, 0]|    4.0|Heavenly Highway ...|10 16, 2012|A3BED5QFJWK88M|              jimedd|Heavenly Highway ...|    1350345600|\n",
      "|0000013714|  [2, 3]|    5.0|I bought this for...|09 13, 2009|A2SUAM1J3GNN3B|         J. McDonald|Heavenly Highway ...|    1252800000|\n",
      "+----------+--------+-------+--------------------+-----------+--------------+--------------------+--------------------+--------------+\n",
      "only showing top 10 rows\n",
      "\n"
     ]
    }
   ],
   "source": [
    "amazon_data.show(10)"
   ]
  },
  {
   "cell_type": "code",
   "execution_count": 22,
   "metadata": {},
   "outputs": [
    {
     "data": {
      "text/plain": [
       "DataFrame[asin: string, helpful: array<bigint>, overall: double, reviewText: string, reviewTime: string, reviewerID: string, reviewerName: string, summary: string, unixReviewTime: bigint]"
      ]
     },
     "execution_count": 22,
     "metadata": {},
     "output_type": "execute_result"
    }
   ],
   "source": [
    "amazon_data.cache()"
   ]
  },
  {
   "cell_type": "code",
   "execution_count": 10,
   "metadata": {},
   "outputs": [
    {
     "data": {
      "text/plain": [
       "82677139"
      ]
     },
     "execution_count": 10,
     "metadata": {},
     "output_type": "execute_result"
    }
   ],
   "source": [
    "amazon_data.count()"
   ]
  },
  {
   "cell_type": "markdown",
   "metadata": {},
   "source": [
    "### Read 5-Core Amazon Video Games Dataset"
   ]
  },
  {
   "cell_type": "code",
   "execution_count": 11,
   "metadata": {},
   "outputs": [],
   "source": [
    "amazon_game = spark.read.json(\"s3://qianyielva/video\")"
   ]
  },
  {
   "cell_type": "code",
   "execution_count": 12,
   "metadata": {},
   "outputs": [
    {
     "name": "stdout",
     "output_type": "stream",
     "text": [
      "+----------+--------+-------+--------------------+-----------+--------------+--------------------+--------------------+--------------+\n",
      "|      asin| helpful|overall|          reviewText| reviewTime|    reviewerID|        reviewerName|             summary|unixReviewTime|\n",
      "+----------+--------+-------+--------------------+-----------+--------------+--------------------+--------------------+--------------+\n",
      "|0700099867| [8, 12]|    1.0|Installing the ga...| 07 9, 2012|A2HD75EMZR8QLN|                 123|Pay to unlock con...|    1341792000|\n",
      "|0700099867|  [0, 0]|    4.0|If you like rally...|06 30, 2013|A3UR8NLLY1ZHCX|Alejandro Henao \"...|     Good rally game|    1372550400|\n",
      "|0700099867|  [0, 0]|    1.0|1st shipment rece...|06 28, 2014|A1INA0F5CWW3J4|Amazon Shopper \"M...|           Wrong key|    1403913600|\n",
      "|0700099867| [7, 10]|    3.0|I got this versio...|09 14, 2011|A1DLMTOTHQ4AST|            ampgreen|awesome game, if ...|    1315958400|\n",
      "|0700099867|  [2, 2]|    4.0|I had Dirt 2 on X...|06 14, 2011|A361M14PU2GUEG|Angry Ryan \"Ryan ...|              DIRT 3|    1308009600|\n",
      "|0700099867|  [0, 0]|    4.0|Overall this is a...|05 11, 2013|A2UTRVO4FDCBH6|              A.R.G.|Good racing game,...|    1368230400|\n",
      "|0700099867|[11, 13]|    5.0|Loved playing Dir...|08 14, 2011| AN3YYDZAS3O1Y|                 Bob|A step up from Di...|    1313280000|\n",
      "|0700099867|  [1, 4]|    1.0|I can't tell you ...|11 24, 2012| AQTC623NCESZW|       Chesty Puller|Crash 3 is correc...|    1353715200|\n",
      "|0700099867|  [0, 1]|    4.0|I initially gave ...|11 14, 2012|A1QJJU33VNC4S7|              D@rkFX|A great game ruin...|    1352851200|\n",
      "|0700099867|  [1, 1]|    2.0|I still haven't f...| 02 8, 2014|A2JLT2WY0F2HVI|       D. Sweetapple|Couldn't get this...|    1391817600|\n",
      "+----------+--------+-------+--------------------+-----------+--------------+--------------------+--------------------+--------------+\n",
      "only showing top 10 rows\n",
      "\n"
     ]
    }
   ],
   "source": [
    "amazon_game.show(10)"
   ]
  },
  {
   "cell_type": "code",
   "execution_count": 19,
   "metadata": {},
   "outputs": [],
   "source": [
    "amazon_data.createOrReplaceTempView(\"amazon_fulldata\")"
   ]
  },
  {
   "cell_type": "code",
   "execution_count": 25,
   "metadata": {},
   "outputs": [],
   "source": [
    "amazon_game.createOrReplaceTempView(\"amazon_gamedata\")"
   ]
  },
  {
   "cell_type": "markdown",
   "metadata": {},
   "source": [
    "### Find distinct Video Game ID from the video game dataset"
   ]
  },
  {
   "cell_type": "code",
   "execution_count": 27,
   "metadata": {},
   "outputs": [],
   "source": [
    "Vasin = amazon_game.select('asin').rdd.flatMap(lambda x: x).collect()"
   ]
  },
  {
   "cell_type": "code",
   "execution_count": 74,
   "metadata": {},
   "outputs": [],
   "source": [
    "unique = list(set(Vasin))"
   ]
  },
  {
   "cell_type": "code",
   "execution_count": 49,
   "metadata": {},
   "outputs": [],
   "source": [
    "from pyspark.sql import Row"
   ]
  },
  {
   "cell_type": "code",
   "execution_count": 53,
   "metadata": {},
   "outputs": [],
   "source": [
    "from pyspark.sql import SQLContext\n",
    "sqlContext = SQLContext(sc)"
   ]
  },
  {
   "cell_type": "code",
   "execution_count": 78,
   "metadata": {},
   "outputs": [],
   "source": [
    "rdd = sc.parallelize(unique)\n",
    "videogame_id = rdd.map(lambda x: Row(id=x))\n",
    "videogame_id = sqlContext.createDataFrame(videogame_id)"
   ]
  },
  {
   "cell_type": "code",
   "execution_count": 79,
   "metadata": {},
   "outputs": [],
   "source": [
    "videogame_id.createOrReplaceTempView(\"videogame_id\")\n",
    "#videogame_id.count()"
   ]
  },
  {
   "cell_type": "code",
   "execution_count": 80,
   "metadata": {},
   "outputs": [
    {
     "name": "stdout",
     "output_type": "stream",
     "text": [
      "+----------+\n",
      "|        id|\n",
      "+----------+\n",
      "|B000O5HZTK|\n",
      "|B00004RC1Y|\n",
      "|B00003E4GK|\n",
      "|B002I0J8FI|\n",
      "|B0009WPZPY|\n",
      "|B004IK0M4M|\n",
      "|B00007LVDN|\n",
      "|B00002STF1|\n",
      "|B0002A6CQ4|\n",
      "|B00009YFU5|\n",
      "+----------+\n",
      "only showing top 10 rows\n",
      "\n"
     ]
    }
   ],
   "source": [
    "videogame_id.show(10)"
   ]
  },
  {
   "cell_type": "markdown",
   "metadata": {},
   "source": [
    "### Select all video games reviews from the Amazon full review data"
   ]
  },
  {
   "cell_type": "code",
   "execution_count": 82,
   "metadata": {},
   "outputs": [],
   "source": [
    "amazon_fullgame = spark.sql(\"SELECT * FROM amazon_fulldata WHERE asin in (SELECT id FROM videogame_id)\")"
   ]
  },
  {
   "cell_type": "code",
   "execution_count": 83,
   "metadata": {},
   "outputs": [
    {
     "name": "stdout",
     "output_type": "stream",
     "text": [
      "+----------+-------+-------+--------------------+-----------+--------------+--------------------+--------------------+--------------+\n",
      "|      asin|helpful|overall|          reviewText| reviewTime|    reviewerID|        reviewerName|             summary|unixReviewTime|\n",
      "+----------+-------+-------+--------------------+-----------+--------------+--------------------+--------------------+--------------+\n",
      "|B00002STH3| [0, 0]|    4.0|It works as it is...| 07 5, 2014| AIGJ9P9JNFOA2|           Amanda A.|              Happy!|    1404518400|\n",
      "|B00002STH3| [5, 5]|    4.0|I got this game a...|07 23, 2000|A1Y63IWKEOXG6F|       Anthony Rogan|High Quality Raci...|     964310400|\n",
      "|B00002STH3| [0, 0]|    4.0|The Nintendo 64 p...|06 27, 2011|A36UKFV79879MD|          BX Lounger|Good racer for th...|    1309132800|\n",
      "|B00002STH3| [0, 0]|    4.0|If you are solely...| 05 2, 2014| ARX0Y3X8WZL6V|      Charles Patton|Fun Game, but not...|    1398988800|\n",
      "|B00002STH3| [2, 7]|    1.0|the graphics is p...|05 11, 2006| AWG2O9C42XW5G|David \"Black Wido...|Cool graphics Lou...|    1147305600|\n",
      "|B00002STH3| [1, 1]|    5.0|I got this game a...|07 10, 2001| AVE21QF06WNDB|       \"imweirdx100\"|        Extreme Game|     994723200|\n",
      "|B00002STH3| [5, 5]|    3.0|A somewhat entert...| 03 1, 2008|A2WQY1B8ZS7QRZ|Mike Reed \"Mike R...|Extreme G - Ninte...|    1204329600|\n",
      "|B00002STH3| [1, 2]|    5.0|WZZZZZZZZZvvvvvvv...|03 22, 2005| AD0J5KK4WQXNS|         OverTheMoon|SPE>>>>>>>>EEEEEE...|    1111449600|\n",
      "|B00002STH3| [1, 1]|    4.0|Good game to play...|02 12, 2014|A39QYCBKS4D6E7|            Tim Case|                 Fun|    1392163200|\n",
      "|B00002STH3| [0, 0]|    4.0|When Nintendo fir...|09 12, 2003| AQMWZIH22R6LE|TwistaG \"Quoth th...|         Pretty good|    1063324800|\n",
      "+----------+-------+-------+--------------------+-----------+--------------+--------------------+--------------------+--------------+\n",
      "only showing top 10 rows\n",
      "\n"
     ]
    }
   ],
   "source": [
    "amazon_fullgame.show(10)"
   ]
  },
  {
   "cell_type": "code",
   "execution_count": 84,
   "metadata": {},
   "outputs": [
    {
     "data": {
      "text/plain": [
       "1075312"
      ]
     },
     "execution_count": 84,
     "metadata": {},
     "output_type": "execute_result"
    }
   ],
   "source": [
    "amazon_fullgame.count()"
   ]
  },
  {
   "cell_type": "code",
   "execution_count": 92,
   "metadata": {},
   "outputs": [],
   "source": [
    "amazon_fullgame.write.save(\"s3://qianyielva/amazon_game_data\", format = \"json\")"
   ]
  },
  {
   "cell_type": "markdown",
   "metadata": {},
   "source": [
    "### Read Twitch Dataset"
   ]
  },
  {
   "cell_type": "code",
   "execution_count": 118,
   "metadata": {},
   "outputs": [],
   "source": [
    "schema = StructType([\n",
    "    StructField(\"stream_ID\", StringType(), True),\n",
    "    StructField(\"current_views\", StringType(), True),\n",
    "    StructField(\"stream_created_time\", StringType(), True),\n",
    "    StructField(\"game_name\", StringType(), True),\n",
    "    StructField(\"broadcaster_ID\", StringType(), True),\n",
    "    StructField(\"broadcaster_name\", StringType(), True),\n",
    "    StructField(\"delay_setting\", StringType(), True),\n",
    "    StructField(\"follower_number\", StringType(), True),\n",
    "    StructField(\"partner_status\", StringType(), True),\n",
    "    StructField(\"broadcaster_language\", StringType(), True),\n",
    "    StructField(\"total_views_of_this_broadcaster\", StringType(), True),\n",
    "    StructField(\"language\", StringType(), True),\n",
    "    StructField(\"broadcasters_created_time\", StringType(), True),\n",
    "    StructField(\"playback_bitrate\", StringType(), True),\n",
    "    StructField(\"source_resolution\", StringType(), True),\n",
    "])"
   ]
  },
  {
   "cell_type": "code",
   "execution_count": 119,
   "metadata": {},
   "outputs": [],
   "source": [
    "twitch = spark.read.csv('s3://502-project/Twitch_data',sep = \"\\t\", schema=schema)"
   ]
  },
  {
   "cell_type": "code",
   "execution_count": 120,
   "metadata": {},
   "outputs": [
    {
     "name": "stdout",
     "output_type": "stream",
     "text": [
      "+-----------+-------------+--------------------+--------------------+--------------+-------------------+-------------+---------------+--------------+--------------------+-------------------------------+--------+-------------------------+----------------+-----------------+\n",
      "|  stream_ID|current_views| stream_created_time|           game_name|broadcaster_ID|   broadcaster_name|delay_setting|follower_number|partner_status|broadcaster_language|total_views_of_this_broadcaster|language|broadcasters_created_time|playback_bitrate|source_resolution|\n",
      "+-----------+-------------+--------------------+--------------------+--------------+-------------------+-------------+---------------+--------------+--------------------+-------------------------------+--------+-------------------------+----------------+-----------------+\n",
      "|13143376000|       206403|2015-02-14T19:00:22Z|   League of Legends|      36029255|          riotgames|           -1|        1375163|          True|                  en|                      636705939|      en|     2012-09-08T06:53:10Z|         2638140|         1280x720|\n",
      "|13137381936|        78525|2015-02-14T11:19:49Z|Counter-Strike: G...|      31239503|           esltv_cs|           -1|         238950|          True|                  en|                       26775824|      pl|     2012-06-11T13:36:21Z|         2444460|         1280x720|\n",
      "|13144450944|        47007|2015-02-14T20:00:00Z|           Minecraft|      15554591|    captainsparklez|           -1|         921635|          True|                  en|                       14392009|      en|     2010-09-12T23:55:54Z|         3018132|         1280x720|\n",
      "|13141516704|        31156|2015-02-14T17:05:31Z|                H1Z1|      23161357|              lirik|           -1|         690274|          True|                  en|                       64984855|      en|     2011-06-27T18:34:45Z|         3247609|         1536x864|\n",
      "|13138856624|        21706|2015-02-14T13:49:31Z|              Dota 2|      39176440|              dendi|           -1|         251151|          True|                  en|                       34604629|      ru|     2013-01-09T03:28:18Z|         2411437|        1920x1080|\n",
      "|13144304064|        16988|2015-02-14T19:51:57Z|           Minecraft|      47176475|     omgitsfirefoxx|           -1|         404520|          True|                  en|                        3214041|      en|     2013-08-05T23:47:07Z|         3518289|         1280x720|\n",
      "|13141500112|        16015|2015-02-14T17:04:30Z|Counter-Strike: G...|      80646824|          games4utv|           -1|            653|            -1|                  en|                          47195|      sv|     2015-01-23T17:47:38Z|         2670273|         1280x720|\n",
      "|13142879248|        15757|2015-02-14T18:31:35Z|           Lucius II|      26301881|         sodapoppin|           -1|         657252|          True|                  en|                       81802355|      en|     2011-11-22T04:40:56Z|         2506179|        1920x1080|\n",
      "|13139732624|        13820|2015-02-14T15:00:46Z|   League of Legends|      36511475|    riotgamesbrazil|           -1|         132915|          True|                  pt|                       33550390|      en|     2012-09-28T22:31:17Z|         2957742|         1280x720|\n",
      "|13136368448|        13605|2015-02-14T09:05:48Z|Counter-Strike: G...|      75852992|stormstudio_csgo_ru|           -1|          18751|          True|                  ru|                        1839403|      ru|     2014-11-24T12:04:21Z|         3430843|         1280x720|\n",
      "+-----------+-------------+--------------------+--------------------+--------------+-------------------+-------------+---------------+--------------+--------------------+-------------------------------+--------+-------------------------+----------------+-----------------+\n",
      "only showing top 10 rows\n",
      "\n"
     ]
    }
   ],
   "source": [
    "twitch.show(10)"
   ]
  },
  {
   "cell_type": "markdown",
   "metadata": {},
   "source": [
    "### Twitch Data Cleaning"
   ]
  },
  {
   "cell_type": "code",
   "execution_count": 121,
   "metadata": {},
   "outputs": [],
   "source": [
    "#remove unnecessary columns\n",
    "twitch = twitch.drop(\"broadcasters_created_time\").drop(\"stream_ID\").drop(\"delay_setting\").drop(\"playback_bitrate\").drop(\"source_resolution\")"
   ]
  },
  {
   "cell_type": "code",
   "execution_count": 122,
   "metadata": {},
   "outputs": [],
   "source": [
    "twitch = twitch.drop(\"broadcaster_name\").drop(\"partner_status\")"
   ]
  },
  {
   "cell_type": "code",
   "execution_count": 123,
   "metadata": {},
   "outputs": [
    {
     "name": "stdout",
     "output_type": "stream",
     "text": [
      "+-------------+--------------------+--------------------+--------------+---------------+--------------------+-------------------------------+--------+\n",
      "|current_views| stream_created_time|           game_name|broadcaster_ID|follower_number|broadcaster_language|total_views_of_this_broadcaster|language|\n",
      "+-------------+--------------------+--------------------+--------------+---------------+--------------------+-------------------------------+--------+\n",
      "|       206403|2015-02-14T19:00:22Z|   League of Legends|      36029255|        1375163|                  en|                      636705939|      en|\n",
      "|        78525|2015-02-14T11:19:49Z|Counter-Strike: G...|      31239503|         238950|                  en|                       26775824|      pl|\n",
      "|        47007|2015-02-14T20:00:00Z|           Minecraft|      15554591|         921635|                  en|                       14392009|      en|\n",
      "|        31156|2015-02-14T17:05:31Z|                H1Z1|      23161357|         690274|                  en|                       64984855|      en|\n",
      "|        21706|2015-02-14T13:49:31Z|              Dota 2|      39176440|         251151|                  en|                       34604629|      ru|\n",
      "|        16988|2015-02-14T19:51:57Z|           Minecraft|      47176475|         404520|                  en|                        3214041|      en|\n",
      "|        16015|2015-02-14T17:04:30Z|Counter-Strike: G...|      80646824|            653|                  en|                          47195|      sv|\n",
      "|        15757|2015-02-14T18:31:35Z|           Lucius II|      26301881|         657252|                  en|                       81802355|      en|\n",
      "|        13820|2015-02-14T15:00:46Z|   League of Legends|      36511475|         132915|                  pt|                       33550390|      en|\n",
      "|        13605|2015-02-14T09:05:48Z|Counter-Strike: G...|      75852992|          18751|                  ru|                        1839403|      ru|\n",
      "+-------------+--------------------+--------------------+--------------+---------------+--------------------+-------------------------------+--------+\n",
      "only showing top 10 rows\n",
      "\n"
     ]
    }
   ],
   "source": [
    "twitch.show(10)"
   ]
  },
  {
   "cell_type": "code",
   "execution_count": 124,
   "metadata": {},
   "outputs": [],
   "source": [
    "twitch.write.save(\"s3://qianyielva/twitch_clean\", format = \"json\")"
   ]
  },
  {
   "cell_type": "code",
   "execution_count": 129,
   "metadata": {},
   "outputs": [],
   "source": [
    "sc.stop()"
   ]
  },
  {
   "cell_type": "code",
   "execution_count": 130,
   "metadata": {},
   "outputs": [],
   "source": [
    "spark.stop()"
   ]
  },
  {
   "cell_type": "code",
   "execution_count": null,
   "metadata": {},
   "outputs": [],
   "source": []
  }
 ],
 "metadata": {
  "kernelspec": {
   "display_name": "Python 3",
   "language": "python",
   "name": "python3"
  },
  "language_info": {
   "codemirror_mode": {
    "name": "ipython",
    "version": 3
   },
   "file_extension": ".py",
   "mimetype": "text/x-python",
   "name": "python",
   "nbconvert_exporter": "python",
   "pygments_lexer": "ipython3",
   "version": "3.7.6"
  }
 },
 "nbformat": 4,
 "nbformat_minor": 4
}
